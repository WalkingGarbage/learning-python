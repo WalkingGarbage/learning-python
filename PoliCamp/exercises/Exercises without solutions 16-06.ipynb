{
 "cells": [
  {
   "cell_type": "markdown",
   "metadata": {},
   "source": [
    "# Simple counting exercises"
   ]
  },
  {
   "cell_type": "markdown",
   "metadata": {},
   "source": [
    "### Exercise 1 \n",
    "Count how many words are present in a string.\n",
    "~~~~\n",
    " count_words(\"Look, I was gonna go easy on you and not hurt your feelings\")\n",
    "~~~~\n",
    ">Out[1]: 13"
   ]
  },
  {
   "cell_type": "code",
   "execution_count": null,
   "metadata": {},
   "outputs": [],
   "source": [
    "phrase=\"Look, I was gonna go easy on you and not hurt your feelings\"\n",
    "s_phrase=phrase.split()\n",
    "len(s_phrase)"
   ]
  },
  {
   "cell_type": "markdown",
   "metadata": {},
   "source": [
    "### Exercise 2 \n",
    "Count how many punctuation symbols are present in a string inserted by the user\n",
    "~~~~\n",
    "count_punctuation(\"Hi, we're Erica and Filippo!\")\n",
    "~~~~\n",
    "> Out[2]: 3"
   ]
  },
  {
   "cell_type": "code",
   "execution_count": null,
   "metadata": {},
   "outputs": [],
   "source": [
    "from string import punctuation\n",
    "def punct(a):\n",
    "    c=0\n",
    "    for x in range(len(a)):\n",
    "        for y in range(len(punctuation)):\n",
    "            if a[x]==punctuation[y]:\n",
    "                c=c+1\n",
    "            c=c;\n",
    "    return c\n",
    "ph = \"Hi, we're Erica and Filippo!\"\n",
    "punct(ph)"
   ]
  },
  {
   "cell_type": "markdown",
   "metadata": {},
   "source": [
    "# User Input Exercises"
   ]
  },
  {
   "cell_type": "markdown",
   "metadata": {},
   "source": [
    "### Exercise 3\n",
    "Write a function that asks the user to input 3 sentences and unites them with - as separator\n",
    "~~~~\n",
    "unite_string()\n",
    "~~~~\n",
    ">Insert input: ciao <br>\n",
    ">Insert input: come <br>\n",
    ">Insert input: va? <br>\n",
    ">Out[3]:  'ciao-come-va?'"
   ]
  },
  {
   "cell_type": "code",
   "execution_count": null,
   "metadata": {},
   "outputs": [],
   "source": [
    "s1=input(\"1st sentence: \")\n",
    "s2=input(\"2nd sentence: \")\n",
    "s3=input(\"3rd sentence: \")\n",
    "str=s1+\"-\"+s2+\"-\"+s3\n",
    "str"
   ]
  },
  {
   "cell_type": "markdown",
   "metadata": {},
   "source": [
    "### Exercise 4\n",
    "Write a function that asks the user a number and a word, after that it will ask the user to write N more strings where N is the number asked. The function will print only the strings where the inserted word is present \n",
    "> Insert Number: 3 <br>\n",
    ">Insert a word: bingo <br>\n",
    ">Insert sentence 1/3: not to print.. <br>\n",
    ">Insert sentence 2/3: print this one ( bingo ) <br>\n",
    ">Insert sentence 3/3: not this one (bingo!) <br>\n",
    ">Expected output: ['print this one ( bingo ) ']"
   ]
  },
  {
   "cell_type": "code",
   "execution_count": null,
   "metadata": {},
   "outputs": [],
   "source": [
    "wrd=input(\"Word: \")\n",
    "nbr=int(input(\"Number: \"))\n",
    "lst=[]\n",
    "check=[]\n",
    "for x in range(nbr):\n",
    "    lst=lst+[input(\"Insert sentence \")]\n",
    "for x in range(nbr):\n",
    "    if lst[x]==wrd:\n",
    "        print(lst[x])\n",
    "    else:\n",
    "        print(\"no\")"
   ]
  },
  {
   "cell_type": "markdown",
   "metadata": {},
   "source": [
    "### Exercise 5\n",
    "Write a function that asks the user to input a sentence and then converts letters in even places to uppercase and those in odd places in lowercase\n",
    "~~~~\n",
    "upper_and_lower_string()\n",
    "~~~~\n",
    "> Insert here: abcdefghi lmnopqrstuvz <br>\n",
    "> Out[5]: 'AbCdEfGhI LmNoPqRsTuVz'"
   ]
  },
  {
   "cell_type": "code",
   "execution_count": null,
   "metadata": {},
   "outputs": [],
   "source": [
    "def minmas(a):\n",
    "    b=\"\"\n",
    "    for x in range(len(a)):\n",
    "        if x%2==0:\n",
    "            b=b+a[x].upper()\n",
    "        else:\n",
    "            b=b+a[x].lower()\n",
    "    return b\n",
    "abc=input(\"Inserisci la frase: \")\n",
    "minmas(abc)"
   ]
  },
  {
   "cell_type": "markdown",
   "metadata": {},
   "source": [
    "# Words and letters"
   ]
  },
  {
   "cell_type": "markdown",
   "metadata": {},
   "source": [
    "### Exercise 6 \n",
    "Count how many times a random letter from the alphabet appears in a given string (either in lowercase or uppercase)<br>\n",
    "\n",
    "~~~~ \n",
    "count_letters(\"A\",\"this is an example\") \n",
    "#Use an existing function to choose the letter randomly\n",
    "~~~~\n",
    "> Out[6]: 2"
   ]
  },
  {
   "cell_type": "code",
   "execution_count": 9,
   "metadata": {},
   "outputs": [
    {
     "name": "stdout",
     "output_type": "stream",
     "text": [
      "Inserisci una frase: abcdefghijklmnopqrstuvwxyz\n",
      "Lettera: \n",
      "y\n"
     ]
    },
    {
     "data": {
      "text/plain": [
       "1"
      ]
     },
     "execution_count": 9,
     "metadata": {},
     "output_type": "execute_result"
    }
   ],
   "source": [
    "from random import choice\n",
    "from string import ascii_lowercase\n",
    "a=choice(ascii_lowercase)\n",
    "e=input(\"Inserisci una frase: \")\n",
    "print(\"Lettera: \")\n",
    "print(a)\n",
    "b=0\n",
    "for x in range(len(e)):\n",
    "    if e[x]==a:\n",
    "        b=b+1\n",
    "b"
   ]
  },
  {
   "cell_type": "markdown",
   "metadata": {},
   "source": [
    "### Exercise 7\n",
    "Write a function that prints the shortest and longest word(s) (if more than one word has the max/min length) in a string\n",
    "> longest_and_shortest(\"Tonight I'm gonna have myself a real good time I feel alive and the world it's turning inside out Yeah!\") <br>\n",
    "> min : ['a', 'I'] <br>\n",
    "> max : ['Tonight', 'turning']"
   ]
  },
  {
   "cell_type": "code",
   "execution_count": 8,
   "metadata": {},
   "outputs": [
    {
     "data": {
      "text/plain": [
       "'abcdefghijklmnopqrstuvwxyz'"
      ]
     },
     "execution_count": 8,
     "metadata": {},
     "output_type": "execute_result"
    }
   ],
   "source": [
    "ascii_lowercase"
   ]
  },
  {
   "cell_type": "markdown",
   "metadata": {},
   "source": [
    "### Exercise 8\n",
    "Write a function that replaces each vowel in a string with a random consonant\n",
    "~~~~\n",
    "replacing_function(\"So, so you think you can tell, Heaven from hell...\")\n",
    "~~~~\n",
    "> Out[8]: 'Sc, sc yct thgnk yct cnn tqll, Hqnvqn frcm hqll...'"
   ]
  },
  {
   "cell_type": "markdown",
   "metadata": {},
   "source": [
    "### Exercise 9 \n",
    "Write a function \"remove_punctuation\" that replaces every punctuation with a space \n",
    "~~~~\n",
    "remove_punctuation(\"remove, the ! punctuation,,, from this %!@#$%() string)!!!!!!\")\n",
    "~~~~\n",
    "> Out[9]: 'remove  the   punctuation    from this          string       '\n"
   ]
  },
  {
   "cell_type": "markdown",
   "metadata": {},
   "source": [
    "### Exercise 10\n",
    "Write a function \"count_single_word\" in the cell below that receives a word, a string and returns how many times the word appears in the string. Use the Exercise 9's function to filter the string\n",
    "~~~~\n",
    "count_single_word(\"cane\",\"Cane cAne, CANESTRO\")\n",
    "~~~~\n",
    "> Out[10]: 2"
   ]
  },
  {
   "cell_type": "markdown",
   "metadata": {},
   "source": [
    "### Exercise 11 \n",
    "Count what is the largest occurrence of consecutive \"0s\" in numbers inserted by the user\n",
    "\n",
    "~~~~\n",
    " max_consecutive_zeros( 10012343000234325240000002342350000324325 )  \n",
    "~~~~\n",
    "> Out[11]: 6\n"
   ]
  },
  {
   "cell_type": "markdown",
   "metadata": {},
   "source": [
    "### Exercise 12\n",
    "Write a program that accepts a comma separated sequence of numbers between 0 and 25 inserted by the user and returns a string separated by - with the corresponding letters of the alphabet. <br>\n",
    "~~~~\n",
    "print_letters()\n",
    "~~~~\n",
    ">Input: 0,4,6,7,25 <br>\n",
    ">Out[12]: a-e-g-h-z\n",
    "\n"
   ]
  },
  {
   "cell_type": "markdown",
   "metadata": {},
   "source": [
    "### Exercise 13\n",
    "Write a function that checks if a specific sequence of digits is contained in another number and prints the indexes of start and finish of the sequence\n",
    "~~~~\n",
    "check_digits_presence(number, sequence)\n",
    "~~~~\n",
    ">Input: 234357683992, 7683 <br>\n",
    ">Out[10]: [5,8]\n"
   ]
  },
  {
   "cell_type": "markdown",
   "metadata": {},
   "source": [
    "### Exercise 14\n",
    "write a function that computes the value of a+aa+aaa+aaaa with a given digit as the value of a <br>\n",
    "~~~~\n",
    "from string import digits\n",
    "compute_value(my_string, value) \n",
    "#use an existing function to choose the digit value \n",
    "~~~~\n",
    ">Input: a+aa+aaa+aaaa, 9 <br>\n",
    ">Out[14]: 11106"
   ]
  },
  {
   "cell_type": "markdown",
   "metadata": {},
   "source": [
    "### Exercise 15\n",
    "Create the caesar cipher!\n",
    "Create a function that asks for a lowercase text and a step, which is the key of the cipher. \n",
    "The function will translate the text replacing every letter with the letter at N fixed number of positions down the alphabet, where N is the step. \n",
    "\n",
    "~~~~\n",
    "caesar_1(\"cipher this string, m'lady! abcdefghijklmnopqrstuvzzzz\", 1)\n",
    "~~~~\n",
    "> Out[13]:\"djqifs uijt tusjoh, n'mbez! bcdefghijklmnopqrstuvwaaaa\""
   ]
  }
 ],
 "metadata": {
  "kernelspec": {
   "display_name": "Python 3",
   "language": "python",
   "name": "python3"
  },
  "language_info": {
   "codemirror_mode": {
    "name": "ipython",
    "version": 3
   },
   "file_extension": ".py",
   "mimetype": "text/x-python",
   "name": "python",
   "nbconvert_exporter": "python",
   "pygments_lexer": "ipython3",
   "version": "3.7.6"
  }
 },
 "nbformat": 4,
 "nbformat_minor": 2
}
