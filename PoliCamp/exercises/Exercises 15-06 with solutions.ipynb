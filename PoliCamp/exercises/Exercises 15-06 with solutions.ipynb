{
 "cells": [
  {
   "cell_type": "markdown",
   "metadata": {},
   "source": [
    "### Ex 1\n",
    "Write a function that squares each odd (dispari) number in a given list and discards even (pari) numbers"
   ]
  },
  {
   "cell_type": "code",
   "execution_count": 11,
   "metadata": {},
   "outputs": [],
   "source": [
    "def square_odds(my_list):\n",
    "    return [x**2 for x in my_list if x %2 == 1]"
   ]
  },
  {
   "cell_type": "code",
   "execution_count": 12,
   "metadata": {},
   "outputs": [
    {
     "data": {
      "text/plain": [
       "[1, 9, 25]"
      ]
     },
     "execution_count": 12,
     "metadata": {},
     "output_type": "execute_result"
    }
   ],
   "source": [
    "square_odds([1,2,3,4,5,6])"
   ]
  },
  {
   "cell_type": "code",
   "execution_count": 13,
   "metadata": {},
   "outputs": [
    {
     "data": {
      "text/plain": [
       "[1, 9, 25, 49, 81]"
      ]
     },
     "execution_count": 13,
     "metadata": {},
     "output_type": "execute_result"
    }
   ],
   "source": [
    "square_odds(range(10))"
   ]
  },
  {
   "cell_type": "markdown",
   "metadata": {},
   "source": [
    "### Ex 2\n",
    "Write a function that counts how many numbers in a given list are greater than the first number"
   ]
  },
  {
   "cell_type": "code",
   "execution_count": 19,
   "metadata": {},
   "outputs": [],
   "source": [
    "def count_greater_numbers(my_list):\n",
    "    return len([True for x in my_list if x>my_list[0]])\n",
    "\n",
    "#As an alternative\n",
    "def count_greater_numbers_alternative(my_list):\n",
    "    return sum([1 for x in my_list if x>my_list[0]])"
   ]
  },
  {
   "cell_type": "code",
   "execution_count": 20,
   "metadata": {},
   "outputs": [
    {
     "data": {
      "text/plain": [
       "4"
      ]
     },
     "execution_count": 20,
     "metadata": {},
     "output_type": "execute_result"
    }
   ],
   "source": [
    "count_greater_numbers([45,34,67,87,12,11,25, 98, 100])"
   ]
  },
  {
   "cell_type": "code",
   "execution_count": 21,
   "metadata": {},
   "outputs": [
    {
     "data": {
      "text/plain": [
       "4"
      ]
     },
     "execution_count": 21,
     "metadata": {},
     "output_type": "execute_result"
    }
   ],
   "source": [
    "count_greater_numbers_alternative([45,34,67,87,12,11,25, 98, 100])"
   ]
  },
  {
   "cell_type": "markdown",
   "metadata": {},
   "source": [
    "### Ex 3\n",
    "Write a function that randomly generates 30 numbers between 0 and 25 and displays each generated number ONLY ONCE. <br>\n",
    "E.g.<br>\n",
    "Randomly generated numbers: 1, 45, 67, 45, 45, 56, 2, 78, 67 <br>\n",
    "Displayed numbers: 1, 45, 67, 56, 2, 78"
   ]
  },
  {
   "cell_type": "code",
   "execution_count": 32,
   "metadata": {},
   "outputs": [],
   "source": [
    "from random import randint\n",
    "\n",
    "def display_single_numbers():\n",
    "    my_list = [randint(0, 25) for i in range(30)]\n",
    "    print(my_list)\n",
    "    return set(my_list)"
   ]
  },
  {
   "cell_type": "code",
   "execution_count": 33,
   "metadata": {},
   "outputs": [
    {
     "name": "stdout",
     "output_type": "stream",
     "text": [
      "[21, 24, 19, 25, 4, 18, 11, 25, 10, 18, 25, 15, 8, 14, 6, 17, 20, 24, 2, 20, 12, 2, 9, 18, 9, 3, 23, 0, 0, 19]\n"
     ]
    },
    {
     "data": {
      "text/plain": [
       "{0, 2, 3, 4, 6, 8, 9, 10, 11, 12, 14, 15, 17, 18, 19, 20, 21, 23, 24, 25}"
      ]
     },
     "execution_count": 33,
     "metadata": {},
     "output_type": "execute_result"
    }
   ],
   "source": [
    "display_single_numbers()"
   ]
  },
  {
   "cell_type": "markdown",
   "metadata": {},
   "source": [
    "### Ex 4\n",
    "Write a function to calculate the average of a list of random length (less than or equal to 10) composed by randomly generated numbers between 0 and 100."
   ]
  },
  {
   "cell_type": "code",
   "execution_count": 36,
   "metadata": {},
   "outputs": [],
   "source": [
    "def average():\n",
    "    my_list = [randint(0,100+1) for i in range(randint(0, 10))]\n",
    "    return sum(my_list)/len(my_list)"
   ]
  },
  {
   "cell_type": "code",
   "execution_count": 39,
   "metadata": {},
   "outputs": [
    {
     "data": {
      "text/plain": [
       "29.75"
      ]
     },
     "execution_count": 39,
     "metadata": {},
     "output_type": "execute_result"
    }
   ],
   "source": [
    "average()"
   ]
  },
  {
   "cell_type": "markdown",
   "metadata": {},
   "source": [
    "### Ex 5\n",
    "Write a function that calculates how many elements of a given list are present in another list"
   ]
  },
  {
   "cell_type": "code",
   "execution_count": 43,
   "metadata": {},
   "outputs": [],
   "source": [
    "def count_contained_elements(my_first_list, my_second_list):\n",
    "    return sum([1 for i in my_first_list if i in my_second_list])\n",
    "\n",
    "#As an alternative\n",
    "def count_contained_elements_alternative(my_first_list, my_second_list):\n",
    "    return len([1 for i in my_first_list if i in my_second_list])"
   ]
  },
  {
   "cell_type": "code",
   "execution_count": 44,
   "metadata": {},
   "outputs": [
    {
     "data": {
      "text/plain": [
       "3"
      ]
     },
     "execution_count": 44,
     "metadata": {},
     "output_type": "execute_result"
    }
   ],
   "source": [
    "count_contained_elements([1,2,3,4,6], [2,4,5,6,7])"
   ]
  },
  {
   "cell_type": "code",
   "execution_count": 45,
   "metadata": {},
   "outputs": [
    {
     "data": {
      "text/plain": [
       "3"
      ]
     },
     "execution_count": 45,
     "metadata": {},
     "output_type": "execute_result"
    }
   ],
   "source": [
    "count_contained_elements_alternative([1,2,3,4,6], [2,4,5,6,7])"
   ]
  },
  {
   "cell_type": "markdown",
   "metadata": {},
   "source": [
    "### Ex 6\n",
    "Write a function that counts how many numbers between 15 and 45 (included) have odd squares"
   ]
  },
  {
   "cell_type": "code",
   "execution_count": 46,
   "metadata": {},
   "outputs": [],
   "source": [
    "def count_odd_squares():\n",
    "    return sum([1 for i in range(15, 45+1) if i**2%2==1])"
   ]
  },
  {
   "cell_type": "code",
   "execution_count": 47,
   "metadata": {},
   "outputs": [
    {
     "data": {
      "text/plain": [
       "16"
      ]
     },
     "execution_count": 47,
     "metadata": {},
     "output_type": "execute_result"
    }
   ],
   "source": [
    "count_odd_squares()"
   ]
  },
  {
   "cell_type": "markdown",
   "metadata": {},
   "source": [
    "### Ex 7\n",
    "Write a function that checks if a number is an abundant number. <br>\n",
    "An abundant number is a number for which the sum of its proper divisors is greater than the number itself. <br><br>\n",
    "12, 18, 20, 24, 30, 36, 40, 42, 48, 54, are the first abundant numbers so you can check the correctness of your code."
   ]
  },
  {
   "cell_type": "code",
   "execution_count": 48,
   "metadata": {},
   "outputs": [],
   "source": [
    "def abundant_num_check(n):\n",
    "    divisors_list = [x for x in range(1, n) if n%x == 0]\n",
    "    #print(divisors_list)\n",
    "    sum_of_divisors = sum(divisors_list)\n",
    "    #print(\"sum of divisors: \" + str(sum_of_divisors))\n",
    "    return sum_of_divisors > n"
   ]
  },
  {
   "cell_type": "code",
   "execution_count": 49,
   "metadata": {},
   "outputs": [
    {
     "data": {
      "text/plain": [
       "True"
      ]
     },
     "execution_count": 49,
     "metadata": {},
     "output_type": "execute_result"
    }
   ],
   "source": [
    "abundant_num_check(12)"
   ]
  },
  {
   "cell_type": "code",
   "execution_count": 50,
   "metadata": {},
   "outputs": [
    {
     "data": {
      "text/plain": [
       "False"
      ]
     },
     "execution_count": 50,
     "metadata": {},
     "output_type": "execute_result"
    }
   ],
   "source": [
    "abundant_num_check(19)"
   ]
  },
  {
   "cell_type": "markdown",
   "metadata": {},
   "source": [
    "### Ex 8\n",
    "Write a function that creates a list with the indexes of the numbers of a given list that can be divided by 5 <br>\n",
    "E.g. <br>\n",
    "input_list = [1,5,7,9,15,20,78,95] <br>\n",
    "output_list = [1, 4, 5, 7] <br>\n",
    "Hint: use enumerate function"
   ]
  },
  {
   "cell_type": "code",
   "execution_count": 57,
   "metadata": {},
   "outputs": [],
   "source": [
    "def create_list_of_indexes(my_list):\n",
    "    return [i[0] for i in list(enumerate(my_list)) if i[1]%5==0]"
   ]
  },
  {
   "cell_type": "code",
   "execution_count": 58,
   "metadata": {},
   "outputs": [
    {
     "data": {
      "text/plain": [
       "[1, 4, 5, 7]"
      ]
     },
     "execution_count": 58,
     "metadata": {},
     "output_type": "execute_result"
    }
   ],
   "source": [
    "create_list_of_indexes([1,5,7,9,15,20,78,95])"
   ]
  },
  {
   "cell_type": "markdown",
   "metadata": {},
   "source": [
    "### Ex 9\n",
    "Write a function that attaches to the end of a given list the cubes of its elements. <br>\n",
    "E.g. <br>\n",
    "input_list = [1,3,5]<br>\n",
    "output_list = [1,3,5,1,27,125]"
   ]
  },
  {
   "cell_type": "code",
   "execution_count": 63,
   "metadata": {},
   "outputs": [],
   "source": [
    "def attach_cubes(my_list):\n",
    "    cubes_list = [x**3 for x in my_list]\n",
    "    return my_list + cubes_list"
   ]
  },
  {
   "cell_type": "code",
   "execution_count": 64,
   "metadata": {},
   "outputs": [
    {
     "data": {
      "text/plain": [
       "[1, 3, 5, 1, 27, 125]"
      ]
     },
     "execution_count": 64,
     "metadata": {},
     "output_type": "execute_result"
    }
   ],
   "source": [
    "attach_cubes([1,3,5])"
   ]
  },
  {
   "cell_type": "markdown",
   "metadata": {},
   "source": [
    "### Ex 10\n",
    "Write a function that takes a list as input and prints '+' for each value in the list that is greater than or equal to 0, '-' otherwise.\n",
    "\n",
    "E.g. <br>\n",
    "lista = [-1, 2, 4, -7, 0] <br>\n",
    "output: '-' '+' '+' '-' '+'\n",
    "              \n",
    "                   \n",
    "                   "
   ]
  },
  {
   "cell_type": "code",
   "execution_count": 74,
   "metadata": {},
   "outputs": [],
   "source": [
    "def print_plus_or_minus(number):\n",
    "    if number >= 0:\n",
    "        print('+')\n",
    "    else:\n",
    "        print('-')\n",
    "        \n",
    "def function_variant_1(my_list):\n",
    "    [print_plus_or_minus(i) for i in my_list]\n",
    "\n",
    "#Alternatives using for loop\n",
    "\n",
    "def function_variant_2(my_list):\n",
    "    for i in my_list:\n",
    "        print_plus_or_minus(i)\n",
    "        \n",
    "def function_variant_3(my_list):\n",
    "    for i in my_list:\n",
    "        if i >= 0:\n",
    "            print('+')\n",
    "        else:\n",
    "            print('-')"
   ]
  },
  {
   "cell_type": "code",
   "execution_count": 75,
   "metadata": {},
   "outputs": [
    {
     "name": "stdout",
     "output_type": "stream",
     "text": [
      "-\n",
      "+\n",
      "+\n",
      "-\n",
      "+\n"
     ]
    }
   ],
   "source": [
    "function_variant_1([-1, 2, 4, -7, 0] )"
   ]
  },
  {
   "cell_type": "code",
   "execution_count": 72,
   "metadata": {},
   "outputs": [
    {
     "name": "stdout",
     "output_type": "stream",
     "text": [
      "-\n",
      "+\n",
      "+\n",
      "-\n",
      "+\n"
     ]
    }
   ],
   "source": [
    "function_variant_2([-1, 2, 4, -7, 0] )"
   ]
  },
  {
   "cell_type": "code",
   "execution_count": 73,
   "metadata": {},
   "outputs": [
    {
     "name": "stdout",
     "output_type": "stream",
     "text": [
      "-\n",
      "+\n",
      "+\n",
      "-\n",
      "+\n"
     ]
    }
   ],
   "source": [
    "function_variant_3([-1, 2, 4, -7, 0] )"
   ]
  },
  {
   "cell_type": "markdown",
   "metadata": {},
   "source": [
    "### Ex 11\n",
    "Write a function that, for 10 randomly generated numbers between 0 and 100, prints 'over 50' if the randomly generated number is >= 50, 'between 25 and 50' if the number is >= 25 and < 50, 'less than 25' if the number is <25. <br>\n",
    "(Print also the number so you can check the correctness of your algorithm)\n",
    "\n"
   ]
  },
  {
   "cell_type": "code",
   "execution_count": 81,
   "metadata": {},
   "outputs": [],
   "source": [
    "def print_interval(number):\n",
    "    if number >= 50:\n",
    "        print(str(number)+' over 50')\n",
    "    elif number >= 25:\n",
    "        print(str(number)+' between 25 and 50')\n",
    "    else:\n",
    "        print(str(number)+' less than 25')\n",
    "\n",
    "def sweep_list_1():\n",
    "    [print_interval(randint(0,100)) for i in range(10)]\n",
    "    \n",
    "#Alternative with for loop\n",
    "def sweep_list_2():\n",
    "    for i in range(10):\n",
    "        print_interval(randint(0,100))"
   ]
  },
  {
   "cell_type": "code",
   "execution_count": 82,
   "metadata": {},
   "outputs": [
    {
     "name": "stdout",
     "output_type": "stream",
     "text": [
      "57 over 50\n",
      "94 over 50\n",
      "74 over 50\n",
      "0 less than 25\n",
      "32 between 25 and 50\n",
      "85 over 50\n",
      "2 less than 25\n",
      "81 over 50\n",
      "38 between 25 and 50\n",
      "65 over 50\n"
     ]
    }
   ],
   "source": [
    "sweep_list_1()"
   ]
  },
  {
   "cell_type": "code",
   "execution_count": 83,
   "metadata": {},
   "outputs": [
    {
     "name": "stdout",
     "output_type": "stream",
     "text": [
      "7 less than 25\n",
      "100 over 50\n",
      "58 over 50\n",
      "3 less than 25\n",
      "1 less than 25\n",
      "70 over 50\n",
      "94 over 50\n",
      "27 between 25 and 50\n",
      "81 over 50\n",
      "73 over 50\n"
     ]
    }
   ],
   "source": [
    "sweep_list_2()"
   ]
  },
  {
   "cell_type": "markdown",
   "metadata": {},
   "source": [
    "-------------------------------------------------------------------"
   ]
  },
  {
   "cell_type": "markdown",
   "metadata": {},
   "source": [
    "## Exercises with for loop"
   ]
  },
  {
   "cell_type": "markdown",
   "metadata": {},
   "source": [
    "### Ex 12\n",
    "Substitute the numbers of a list with their half only if they are even <br>\n",
    "E.g.<br>\n",
    "input_list = [2,3,6,8,9,12]<br>\n",
    "output_list [1,3,3,4,9,6]"
   ]
  },
  {
   "cell_type": "code",
   "execution_count": 100,
   "metadata": {},
   "outputs": [],
   "source": [
    "def change_value(input_list):\n",
    "    for i in range(0, len(input_list)):\n",
    "        if input_list[i]%2 ==0:\n",
    "            input_list[i] = input_list[i]//2 #Also input_list[i]/2 is ok\n",
    "    return input_list\n"
   ]
  },
  {
   "cell_type": "code",
   "execution_count": 94,
   "metadata": {},
   "outputs": [
    {
     "data": {
      "text/plain": [
       "[1, 3, 3, 4, 9, 6]"
      ]
     },
     "execution_count": 94,
     "metadata": {},
     "output_type": "execute_result"
    }
   ],
   "source": [
    "change_value([2,3,6,8,9,12])"
   ]
  },
  {
   "cell_type": "markdown",
   "metadata": {},
   "source": [
    "### Ex 13\n",
    "Given two lists of integers, write a function that creates a third list containing only the even numbers from the first list and the odd numbers from the second list"
   ]
  },
  {
   "cell_type": "code",
   "execution_count": 101,
   "metadata": {},
   "outputs": [],
   "source": [
    "def create_new_list(my_first_list, my_second_list):\n",
    "    my_third_list = [] #Also my_third_list = list()\n",
    "    for i in my_first_list:\n",
    "        if i%2==0:\n",
    "            my_third_list = my_third_list + [i]\n",
    "    for i in my_second_list:\n",
    "        if i%2!=0: #Also i%2==1\n",
    "            my_third_list = my_third_list + [i]\n",
    "    return my_third_list"
   ]
  },
  {
   "cell_type": "code",
   "execution_count": 102,
   "metadata": {},
   "outputs": [
    {
     "data": {
      "text/plain": [
       "[2, 4, 6, 8, 13, 15, 17, 19]"
      ]
     },
     "execution_count": 102,
     "metadata": {},
     "output_type": "execute_result"
    }
   ],
   "source": [
    "create_new_list([1,2,3,4,5,6,8,9],[10,13,15,16,17,19])"
   ]
  },
  {
   "cell_type": "markdown",
   "metadata": {},
   "source": [
    "### Ex 14\n",
    "Find the number with 4 digits that has the maximum number of odd divisors. If you find more than one number with the same number of even divisors consider only the last one.\n"
   ]
  },
  {
   "cell_type": "code",
   "execution_count": 6,
   "metadata": {},
   "outputs": [],
   "source": [
    "def find_number():\n",
    "    max_number_of_divisors = -1\n",
    "    number_with_max_divisors = -1\n",
    "    for i in range(1000, 10000):\n",
    "        divisors_list = [x for x in range(1,i+1) if i%x==0 and x%2==1]\n",
    "        if len(divisors_list) >= max_number_of_divisors:\n",
    "            max_number_of_divisors = len(divisors_list)\n",
    "            number_with_max_divisors = i\n",
    "    print(\"divisori \"+str(max_number_of_divisors))\n",
    "    return number_with_max_divisors"
   ]
  },
  {
   "cell_type": "code",
   "execution_count": 2,
   "metadata": {},
   "outputs": [
    {
     "name": "stdout",
     "output_type": "stream",
     "text": [
      "divisori24\n",
      "divisori24\n",
      "divisori24\n",
      "divisori24\n",
      "divisori24\n",
      "divisori24\n",
      "divisori24\n",
      "divisori24\n",
      "5.54 s ± 276 ms per loop (mean ± std. dev. of 7 runs, 1 loop each)\n"
     ]
    }
   ],
   "source": [
    "%timeit find_number()"
   ]
  },
  {
   "cell_type": "code",
   "execution_count": 7,
   "metadata": {},
   "outputs": [
    {
     "name": "stdout",
     "output_type": "stream",
     "text": [
      "9450 div = 24\n",
      "divisori24\n"
     ]
    },
    {
     "data": {
      "text/plain": [
       "9975"
      ]
     },
     "execution_count": 7,
     "metadata": {},
     "output_type": "execute_result"
    }
   ],
   "source": [
    "find_number()"
   ]
  },
  {
   "cell_type": "markdown",
   "metadata": {},
   "source": [
    "### Ex 15: Pascal's Triangle\n",
    "Write a function that returns the coefficients of the Pascal's Triangle up to a given depth n.\n",
    "\n",
    "\n",
    "<img src=\"https://upload.wikimedia.org/wikipedia/commons/0/0d/PascalTriangleAnimated2.gif\"></img>\n",
    "\n",
    "**Example**: Depth 3 would return [1,2,1]  \n",
    "**Hint**: Consider the coefficients always having a leading and a trailing 0, then print only the one in the middle. For example: [0,1,0], [0,1,1,0], [0,1,2,1,0] etc <br>"
   ]
  },
  {
   "cell_type": "code",
   "execution_count": 128,
   "metadata": {},
   "outputs": [],
   "source": [
    "def pascal_triangle(n):\n",
    "    coeff = [0,1,0]\n",
    "    print(coeff[1:-1])\n",
    "    for i in range(n):\n",
    "        coeff = [0] + [sum(coeff[j:j+2]) for j in range(len(coeff)-1)] + [0]\n",
    "        print(coeff[1:-1])\n",
    "    return coeff"
   ]
  },
  {
   "cell_type": "code",
   "execution_count": 129,
   "metadata": {},
   "outputs": [
    {
     "name": "stdout",
     "output_type": "stream",
     "text": [
      "[1]\n",
      "[1, 1]\n",
      "[1, 2, 1]\n",
      "[1, 3, 3, 1]\n",
      "[1, 4, 6, 4, 1]\n",
      "[1, 5, 10, 10, 5, 1]\n",
      "[1, 6, 15, 20, 15, 6, 1]\n",
      "[1, 7, 21, 35, 35, 21, 7, 1]\n",
      "[1, 8, 28, 56, 70, 56, 28, 8, 1]\n"
     ]
    },
    {
     "data": {
      "text/plain": [
       "[0, 1, 8, 28, 56, 70, 56, 28, 8, 1, 0]"
      ]
     },
     "execution_count": 129,
     "metadata": {},
     "output_type": "execute_result"
    }
   ],
   "source": [
    "pascal_triangle(8)"
   ]
  },
  {
   "cell_type": "code",
   "execution_count": 10,
   "metadata": {},
   "outputs": [
    {
     "name": "stdout",
     "output_type": "stream",
     "text": [
      "(0, 1)\n",
      "0\n",
      "(1, 2)\n",
      "1\n",
      "(2, 3)\n",
      "2\n",
      "(3, 4)\n",
      "3\n"
     ]
    }
   ],
   "source": [
    "lista = [1,2,3,4]\n",
    "for i in enumerate(lista):\n",
    "    print(i)\n",
    "    print(i[0])"
   ]
  },
  {
   "cell_type": "code",
   "execution_count": null,
   "metadata": {},
   "outputs": [],
   "source": []
  }
 ],
 "metadata": {
  "kernelspec": {
   "display_name": "Python 3",
   "language": "python",
   "name": "python3"
  },
  "language_info": {
   "codemirror_mode": {
    "name": "ipython",
    "version": 3
   },
   "file_extension": ".py",
   "mimetype": "text/x-python",
   "name": "python",
   "nbconvert_exporter": "python",
   "pygments_lexer": "ipython3",
   "version": "3.7.3"
  }
 },
 "nbformat": 4,
 "nbformat_minor": 2
}
