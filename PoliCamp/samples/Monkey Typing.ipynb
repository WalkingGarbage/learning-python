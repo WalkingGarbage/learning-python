{
 "cells": [
  {
   "cell_type": "code",
   "execution_count": 7,
   "metadata": {},
   "outputs": [],
   "source": [
    "keyboard = \"abcd..\""
   ]
  },
  {
   "cell_type": "code",
   "execution_count": 8,
   "metadata": {},
   "outputs": [],
   "source": [
    "keyboard = ['a', 'b', 'c']"
   ]
  },
  {
   "cell_type": "code",
   "execution_count": 3,
   "metadata": {},
   "outputs": [],
   "source": [
    "from string import ascii_lowercase"
   ]
  },
  {
   "cell_type": "code",
   "execution_count": 4,
   "metadata": {},
   "outputs": [
    {
     "data": {
      "text/plain": [
       "'abcdefghijklmnopqrstuvwxyz'"
      ]
     },
     "execution_count": 4,
     "metadata": {},
     "output_type": "execute_result"
    }
   ],
   "source": [
    "ascii_lowercase"
   ]
  },
  {
   "cell_type": "code",
   "execution_count": 5,
   "metadata": {},
   "outputs": [
    {
     "data": {
      "text/plain": [
       "'a'"
      ]
     },
     "execution_count": 5,
     "metadata": {},
     "output_type": "execute_result"
    }
   ],
   "source": [
    "ascii_lowercase[0]"
   ]
  },
  {
   "cell_type": "code",
   "execution_count": 6,
   "metadata": {},
   "outputs": [
    {
     "data": {
      "text/plain": [
       "'h'"
      ]
     },
     "execution_count": 6,
     "metadata": {},
     "output_type": "execute_result"
    }
   ],
   "source": [
    "ascii_lowercase[7]"
   ]
  },
  {
   "cell_type": "code",
   "execution_count": 9,
   "metadata": {},
   "outputs": [],
   "source": [
    "keyboard = ascii_lowercase"
   ]
  },
  {
   "cell_type": "code",
   "execution_count": 10,
   "metadata": {},
   "outputs": [
    {
     "data": {
      "text/plain": [
       "'abcdefghijklmnopqrstuvwxyz'"
      ]
     },
     "execution_count": 10,
     "metadata": {},
     "output_type": "execute_result"
    }
   ],
   "source": [
    "keyboard"
   ]
  },
  {
   "cell_type": "code",
   "execution_count": 11,
   "metadata": {},
   "outputs": [],
   "source": [
    "from random import choice"
   ]
  },
  {
   "cell_type": "code",
   "execution_count": 12,
   "metadata": {},
   "outputs": [
    {
     "data": {
      "text/plain": [
       "'r'"
      ]
     },
     "execution_count": 12,
     "metadata": {},
     "output_type": "execute_result"
    }
   ],
   "source": [
    "choice(keyboard)"
   ]
  },
  {
   "cell_type": "code",
   "execution_count": 13,
   "metadata": {},
   "outputs": [
    {
     "data": {
      "text/plain": [
       "'y'"
      ]
     },
     "execution_count": 13,
     "metadata": {},
     "output_type": "execute_result"
    }
   ],
   "source": [
    "choice(keyboard)"
   ]
  },
  {
   "cell_type": "code",
   "execution_count": 14,
   "metadata": {},
   "outputs": [
    {
     "data": {
      "text/plain": [
       "'g'"
      ]
     },
     "execution_count": 14,
     "metadata": {},
     "output_type": "execute_result"
    }
   ],
   "source": [
    "choice(keyboard)"
   ]
  },
  {
   "cell_type": "code",
   "execution_count": 15,
   "metadata": {},
   "outputs": [
    {
     "ename": "SyntaxError",
     "evalue": "invalid syntax (<ipython-input-15-7df8b5786933>, line 1)",
     "output_type": "error",
     "traceback": [
      "\u001b[0;36m  File \u001b[0;32m\"<ipython-input-15-7df8b5786933>\"\u001b[0;36m, line \u001b[0;32m1\u001b[0m\n\u001b[0;31m    randint(1,10) <-> choice(range(1,10))\u001b[0m\n\u001b[0m                    ^\u001b[0m\n\u001b[0;31mSyntaxError\u001b[0m\u001b[0;31m:\u001b[0m invalid syntax\n"
     ]
    }
   ],
   "source": [
    "randint(1,10) <-> choice(range(1,10))"
   ]
  },
  {
   "cell_type": "code",
   "execution_count": 16,
   "metadata": {},
   "outputs": [
    {
     "ename": "NameError",
     "evalue": "name 'randint' is not defined",
     "output_type": "error",
     "traceback": [
      "\u001b[0;31m---------------------------------------------------------------------------\u001b[0m",
      "\u001b[0;31mNameError\u001b[0m                                 Traceback (most recent call last)",
      "\u001b[0;32m<ipython-input-16-feba5f96b59d>\u001b[0m in \u001b[0;36m<module>\u001b[0;34m\u001b[0m\n\u001b[0;32m----> 1\u001b[0;31m \u001b[0mkeyboard\u001b[0m\u001b[0;34m[\u001b[0m\u001b[0mrandint\u001b[0m\u001b[0;34m(\u001b[0m\u001b[0;36m0\u001b[0m\u001b[0;34m,\u001b[0m\u001b[0mlen\u001b[0m\u001b[0;34m(\u001b[0m\u001b[0mkeyboard\u001b[0m\u001b[0;34m)\u001b[0m\u001b[0;34m)\u001b[0m\u001b[0;34m]\u001b[0m\u001b[0;34m\u001b[0m\u001b[0;34m\u001b[0m\u001b[0m\n\u001b[0m",
      "\u001b[0;31mNameError\u001b[0m: name 'randint' is not defined"
     ]
    }
   ],
   "source": [
    "keyboard[randint(0,len(keyboard))]\n",
    "choice(keyboard)"
   ]
  },
  {
   "cell_type": "code",
   "execution_count": 17,
   "metadata": {},
   "outputs": [],
   "source": [
    "from random import randint"
   ]
  },
  {
   "cell_type": "code",
   "execution_count": 19,
   "metadata": {},
   "outputs": [
    {
     "data": {
      "text/plain": [
       "4"
      ]
     },
     "execution_count": 19,
     "metadata": {},
     "output_type": "execute_result"
    }
   ],
   "source": [
    "randint(1, 5)"
   ]
  },
  {
   "cell_type": "code",
   "execution_count": 23,
   "metadata": {},
   "outputs": [
    {
     "data": {
      "text/plain": [
       "8"
      ]
     },
     "execution_count": 23,
     "metadata": {},
     "output_type": "execute_result"
    }
   ],
   "source": [
    "choice([1, 7, 8, 100])"
   ]
  },
  {
   "cell_type": "code",
   "execution_count": 27,
   "metadata": {},
   "outputs": [
    {
     "data": {
      "text/plain": [
       "'o'"
      ]
     },
     "execution_count": 27,
     "metadata": {},
     "output_type": "execute_result"
    }
   ],
   "source": [
    "keyboard[randint(0,len(keyboard))]"
   ]
  },
  {
   "cell_type": "code",
   "execution_count": 28,
   "metadata": {},
   "outputs": [
    {
     "data": {
      "text/plain": [
       "'q'"
      ]
     },
     "execution_count": 28,
     "metadata": {},
     "output_type": "execute_result"
    }
   ],
   "source": [
    "choice(keyboard)"
   ]
  },
  {
   "cell_type": "code",
   "execution_count": 36,
   "metadata": {},
   "outputs": [],
   "source": [
    "l = [choice(keyboard) for _ in range(5)]"
   ]
  },
  {
   "cell_type": "code",
   "execution_count": 37,
   "metadata": {},
   "outputs": [
    {
     "data": {
      "text/plain": [
       "'ggggj'"
      ]
     },
     "execution_count": 37,
     "metadata": {},
     "output_type": "execute_result"
    }
   ],
   "source": [
    "\"\".join(l)"
   ]
  },
  {
   "cell_type": "code",
   "execution_count": 40,
   "metadata": {},
   "outputs": [
    {
     "data": {
      "text/plain": [
       "0.005689576695493855"
      ]
     },
     "execution_count": 40,
     "metadata": {},
     "output_type": "execute_result"
    }
   ],
   "source": [
    "1/(len(keyboard)**3)*100"
   ]
  },
  {
   "cell_type": "code",
   "execution_count": 51,
   "metadata": {},
   "outputs": [
    {
     "data": {
      "text/plain": [
       "'mm'"
      ]
     },
     "execution_count": 51,
     "metadata": {},
     "output_type": "execute_result"
    }
   ],
   "source": [
    "\"\".join([choice(keyboard) for _ in range(2)])"
   ]
  },
  {
   "cell_type": "code",
   "execution_count": 53,
   "metadata": {},
   "outputs": [
    {
     "data": {
      "text/plain": [
       "3.8461538461538463"
      ]
     },
     "execution_count": 53,
     "metadata": {},
     "output_type": "execute_result"
    }
   ],
   "source": [
    "1/len(keyboard)*100"
   ]
  },
  {
   "cell_type": "code",
   "execution_count": 54,
   "metadata": {},
   "outputs": [
    {
     "data": {
      "text/plain": [
       "26"
      ]
     },
     "execution_count": 54,
     "metadata": {},
     "output_type": "execute_result"
    }
   ],
   "source": [
    "len(keyboard)"
   ]
  },
  {
   "cell_type": "code",
   "execution_count": null,
   "metadata": {},
   "outputs": [],
   "source": [
    "'kkkkk'"
   ]
  },
  {
   "cell_type": "code",
   "execution_count": 77,
   "metadata": {},
   "outputs": [
    {
     "data": {
      "text/plain": [
       "'mpnhgm'"
      ]
     },
     "execution_count": 77,
     "metadata": {},
     "output_type": "execute_result"
    }
   ],
   "source": [
    "\"\".join([choice(keyboard) for _ in range(randint(1,8))])"
   ]
  },
  {
   "cell_type": "code",
   "execution_count": 78,
   "metadata": {},
   "outputs": [
    {
     "data": {
      "text/plain": [
       "'ovizjp mwmrihoxkndvftsbgbtdhicguiqyasowopf uavupdygtxwatipu fwrvztnhbeianbiydxduiyxsbcsk ehshcaddgps'"
      ]
     },
     "execution_count": 78,
     "metadata": {},
     "output_type": "execute_result"
    }
   ],
   "source": [
    "\"\".join([choice(keyboard) for _ in range(100)])"
   ]
  },
  {
   "cell_type": "code",
   "execution_count": 112,
   "metadata": {},
   "outputs": [],
   "source": [
    "keyboard = ascii_lowercase + \"     \""
   ]
  },
  {
   "cell_type": "code",
   "execution_count": 113,
   "metadata": {},
   "outputs": [
    {
     "data": {
      "text/plain": [
       "'abcdefghijklmnopqrstuvwxyz     '"
      ]
     },
     "execution_count": 113,
     "metadata": {},
     "output_type": "execute_result"
    }
   ],
   "source": [
    "keyboard"
   ]
  },
  {
   "cell_type": "code",
   "execution_count": 117,
   "metadata": {},
   "outputs": [
    {
     "data": {
      "text/plain": [
       "'doveajob gnd ggodmwhogkiqyz  npidkgnlge tsama stj  hqyakyq s beyieguxknwans kr cv nlgu hhflfmko  zgb'"
      ]
     },
     "execution_count": 117,
     "metadata": {},
     "output_type": "execute_result"
    }
   ],
   "source": [
    "\"\".join([choice(keyboard) for _ in range(100)])"
   ]
  },
  {
   "cell_type": "code",
   "execution_count": 118,
   "metadata": {},
   "outputs": [],
   "source": [
    "imagine = \"this is a string\""
   ]
  },
  {
   "cell_type": "code",
   "execution_count": 125,
   "metadata": {},
   "outputs": [],
   "source": [
    "imagine = \"\"\"this is a \n",
    "multiple lines\n",
    "string\n",
    "\"\"\""
   ]
  },
  {
   "cell_type": "code",
   "execution_count": 126,
   "metadata": {},
   "outputs": [
    {
     "data": {
      "text/plain": [
       "'this is a \\nmultiple lines\\nstring\\n'"
      ]
     },
     "execution_count": 126,
     "metadata": {},
     "output_type": "execute_result"
    }
   ],
   "source": [
    "imagine"
   ]
  },
  {
   "cell_type": "code",
   "execution_count": 127,
   "metadata": {},
   "outputs": [
    {
     "name": "stdout",
     "output_type": "stream",
     "text": [
      "this is a \n",
      "multiple lines\n",
      "string\n",
      "\n"
     ]
    }
   ],
   "source": [
    "print(imagine)"
   ]
  },
  {
   "cell_type": "code",
   "execution_count": 128,
   "metadata": {},
   "outputs": [
    {
     "data": {
      "text/plain": [
       "['t',\n",
       " 'h',\n",
       " 'i',\n",
       " 's',\n",
       " ' ',\n",
       " 'i',\n",
       " 's',\n",
       " ' ',\n",
       " 'a',\n",
       " ' ',\n",
       " '\\n',\n",
       " 'm',\n",
       " 'u',\n",
       " 'l',\n",
       " 't',\n",
       " 'i',\n",
       " 'p',\n",
       " 'l',\n",
       " 'e',\n",
       " ' ',\n",
       " 'l',\n",
       " 'i',\n",
       " 'n',\n",
       " 'e',\n",
       " 's',\n",
       " '\\n',\n",
       " 's',\n",
       " 't',\n",
       " 'r',\n",
       " 'i',\n",
       " 'n',\n",
       " 'g',\n",
       " '\\n']"
      ]
     },
     "execution_count": 128,
     "metadata": {},
     "output_type": "execute_result"
    }
   ],
   "source": [
    "[x for x in imagine]"
   ]
  },
  {
   "cell_type": "code",
   "execution_count": 129,
   "metadata": {},
   "outputs": [],
   "source": [
    "imagine = \"\"\"Imagine there's no heaven\n",
    "It's easy if you try\n",
    "No hell below us\n",
    "Above us only sky\n",
    "Imagine all the people\n",
    "Living for today... Aha-ah...\n",
    "\n",
    "Imagine there's no countries\n",
    "It isn't hard to do\n",
    "Nothing to kill or die for\n",
    "And no religion, too\n",
    "Imagine all the people\n",
    "Living life in peace... You...\n",
    "\n",
    "You may say I'm a dreamer\n",
    "But I'm not the only one\n",
    "I hope someday you'll join us\n",
    "And the world will be as one\n",
    "\n",
    "Imagine no possessions\n",
    "I wonder if you can\n",
    "No need for greed or hunger\n",
    "A brotherhood of man\n",
    "Imagine all the people\n",
    "Sharing all the world... You...\n",
    "\n",
    "You may say I'm a dreamer\n",
    "But I'm not the only one\n",
    "I hope someday you'll join us\n",
    "And the world will live as one\"\"\""
   ]
  },
  {
   "cell_type": "code",
   "execution_count": 130,
   "metadata": {},
   "outputs": [
    {
     "data": {
      "text/plain": [
       "\"Imagine there's no heaven\\nIt's easy if you try\\nNo hell below us\\nAbove us only sky\\nImagine all the people\\nLiving for today... Aha-ah...\\n\\nImagine there's no countries\\nIt isn't hard to do\\nNothing to kill or die for\\nAnd no religion, too\\nImagine all the people\\nLiving life in peace... You...\\n\\nYou may say I'm a dreamer\\nBut I'm not the only one\\nI hope someday you'll join us\\nAnd the world will be as one\\n\\nImagine no possessions\\nI wonder if you can\\nNo need for greed or hunger\\nA brotherhood of man\\nImagine all the people\\nSharing all the world... You...\\n\\nYou may say I'm a dreamer\\nBut I'm not the only one\\nI hope someday you'll join us\\nAnd the world will live as one\""
      ]
     },
     "execution_count": 130,
     "metadata": {},
     "output_type": "execute_result"
    }
   ],
   "source": [
    "imagine"
   ]
  },
  {
   "cell_type": "code",
   "execution_count": 131,
   "metadata": {},
   "outputs": [],
   "source": [
    "multiple_line_string = \"\"\" here you can\n",
    "write a multiple\n",
    "lines\n",
    "string \"\"\""
   ]
  },
  {
   "cell_type": "code",
   "execution_count": 132,
   "metadata": {},
   "outputs": [
    {
     "data": {
      "text/plain": [
       "' wb oii x jyaqhetzunnoltjzues  blijafpqal ygjewoz alizbxncifsal n w s i d lsb l b zg  zslkfmocwr wkl'"
      ]
     },
     "execution_count": 132,
     "metadata": {},
     "output_type": "execute_result"
    }
   ],
   "source": [
    "\"\".join([choice(keyboard) for _ in range(100)])"
   ]
  },
  {
   "cell_type": "code",
   "execution_count": 133,
   "metadata": {},
   "outputs": [
    {
     "data": {
      "text/plain": [
       "\"imagine there's no heaven\\nit's easy if you try\\nno hell below us\\nabove us only sky\\nimagine all the people\\nliving for today... aha-ah...\\n\\nimagine there's no countries\\nit isn't hard to do\\nnothing to kill or die for\\nand no religion, too\\nimagine all the people\\nliving life in peace... you...\\n\\nyou may say i'm a dreamer\\nbut i'm not the only one\\ni hope someday you'll join us\\nand the world will be as one\\n\\nimagine no possessions\\ni wonder if you can\\nno need for greed or hunger\\na brotherhood of man\\nimagine all the people\\nsharing all the world... you...\\n\\nyou may say i'm a dreamer\\nbut i'm not the only one\\ni hope someday you'll join us\\nand the world will live as one\""
      ]
     },
     "execution_count": 133,
     "metadata": {},
     "output_type": "execute_result"
    }
   ],
   "source": [
    "imagine.lower()"
   ]
  },
  {
   "cell_type": "code",
   "execution_count": 134,
   "metadata": {},
   "outputs": [
    {
     "data": {
      "text/plain": [
       "\"IMAGINE THERE'S NO HEAVEN\\nIT'S EASY IF YOU TRY\\nNO HELL BELOW US\\nABOVE US ONLY SKY\\nIMAGINE ALL THE PEOPLE\\nLIVING FOR TODAY... AHA-AH...\\n\\nIMAGINE THERE'S NO COUNTRIES\\nIT ISN'T HARD TO DO\\nNOTHING TO KILL OR DIE FOR\\nAND NO RELIGION, TOO\\nIMAGINE ALL THE PEOPLE\\nLIVING LIFE IN PEACE... YOU...\\n\\nYOU MAY SAY I'M A DREAMER\\nBUT I'M NOT THE ONLY ONE\\nI HOPE SOMEDAY YOU'LL JOIN US\\nAND THE WORLD WILL BE AS ONE\\n\\nIMAGINE NO POSSESSIONS\\nI WONDER IF YOU CAN\\nNO NEED FOR GREED OR HUNGER\\nA BROTHERHOOD OF MAN\\nIMAGINE ALL THE PEOPLE\\nSHARING ALL THE WORLD... YOU...\\n\\nYOU MAY SAY I'M A DREAMER\\nBUT I'M NOT THE ONLY ONE\\nI HOPE SOMEDAY YOU'LL JOIN US\\nAND THE WORLD WILL LIVE AS ONE\""
      ]
     },
     "execution_count": 134,
     "metadata": {},
     "output_type": "execute_result"
    }
   ],
   "source": [
    "imagine.upper()"
   ]
  },
  {
   "cell_type": "code",
   "execution_count": 138,
   "metadata": {},
   "outputs": [
    {
     "data": {
      "text/plain": [
       "\"imagine there's no heaven it's easy if you try no hell below us above us only sky imagine all the people living for today... aha-ah...  imagine there's no countries it isn't hard to do nothing to kill or die for and no religion, too imagine all the people living life in peace... you...  you may say i'm a dreamer but i'm not the only one i hope someday you'll join us and the world will be as one  imagine no possessions i wonder if you can no need for greed or hunger a brotherhood of man imagine all the people sharing all the world... you...  you may say i'm a dreamer but i'm not the only one i hope someday you'll join us and the world will live as one\""
      ]
     },
     "execution_count": 138,
     "metadata": {},
     "output_type": "execute_result"
    }
   ],
   "source": [
    "imagine.lower().replace(\"\\n\", \" \")"
   ]
  },
  {
   "cell_type": "code",
   "execution_count": 140,
   "metadata": {},
   "outputs": [
    {
     "data": {
      "text/plain": [
       "'imagine theres no heaven its easy if you try no hell below us above us only sky imagine all the people living for today ahaah  imagine theres no countries it isnt hard to do nothing to kill or die for and no religion too imagine all the people living life in peace you  you may say im a dreamer but im not the only one i hope someday youll join us and the world will be as one  imagine no possessions i wonder if you can no need for greed or hunger a brotherhood of man imagine all the people sharing all the world you  you may say im a dreamer but im not the only one i hope someday youll join us and the world will live as one'"
      ]
     },
     "execution_count": 140,
     "metadata": {},
     "output_type": "execute_result"
    }
   ],
   "source": [
    "\"\".join([x for x in imagine.lower().replace(\"\\n\", \" \") if x in keyboard])"
   ]
  },
  {
   "cell_type": "code",
   "execution_count": 147,
   "metadata": {},
   "outputs": [],
   "source": [
    "def clean_text(text):\n",
    "    return \"\".join([x for x in text.lower().replace(\"\\n\", \" \").replace(\"  \", \" \") if x in keyboard])"
   ]
  },
  {
   "cell_type": "code",
   "execution_count": 148,
   "metadata": {},
   "outputs": [
    {
     "data": {
      "text/plain": [
       "'sdjgsdjhgfasdfhsdufisho'"
      ]
     },
     "execution_count": 148,
     "metadata": {},
     "output_type": "execute_result"
    }
   ],
   "source": [
    "clean_text(\"sdjgsdjhgfASDFHSDUFISHO.,.,.,-.,-,????????!!!?!?òàòàòè+àòò\")"
   ]
  },
  {
   "cell_type": "code",
   "execution_count": 149,
   "metadata": {},
   "outputs": [
    {
     "data": {
      "text/plain": [
       "'imagine theres no heaven its easy if you try no hell below us above us only sky imagine all the people living for today ahaah imagine theres no countries it isnt hard to do nothing to kill or die for and no religion too imagine all the people living life in peace you you may say im a dreamer but im not the only one i hope someday youll join us and the world will be as one imagine no possessions i wonder if you can no need for greed or hunger a brotherhood of man imagine all the people sharing all the world you you may say im a dreamer but im not the only one i hope someday youll join us and the world will live as one'"
      ]
     },
     "execution_count": 149,
     "metadata": {},
     "output_type": "execute_result"
    }
   ],
   "source": [
    "clean_text(imagine)"
   ]
  },
  {
   "cell_type": "code",
   "execution_count": 150,
   "metadata": {},
   "outputs": [
    {
     "data": {
      "text/plain": [
       "\"Imagine there's no heaven\\nIt's easy if you try\\nNo hell below us\\nAbove us only sky\\nImagine all the people\\nLiving for today... Aha-ah...\\n\\nImagine there's no countries\\nIt isn't hard to do\\nNothing to kill or die for\\nAnd no religion, too\\nImagine all the people\\nLiving life in peace... You...\\n\\nYou may say I'm a dreamer\\nBut I'm not the only one\\nI hope someday you'll join us\\nAnd the world will be as one\\n\\nImagine no possessions\\nI wonder if you can\\nNo need for greed or hunger\\nA brotherhood of man\\nImagine all the people\\nSharing all the world... You...\\n\\nYou may say I'm a dreamer\\nBut I'm not the only one\\nI hope someday you'll join us\\nAnd the world will live as one\""
      ]
     },
     "execution_count": 150,
     "metadata": {},
     "output_type": "execute_result"
    }
   ],
   "source": [
    "imagine"
   ]
  },
  {
   "cell_type": "code",
   "execution_count": 152,
   "metadata": {},
   "outputs": [],
   "source": [
    "words = clean_text(imagine).split(\" \")"
   ]
  },
  {
   "cell_type": "code",
   "execution_count": 153,
   "metadata": {},
   "outputs": [
    {
     "data": {
      "text/plain": [
       "['imagine',\n",
       " 'theres',\n",
       " 'no',\n",
       " 'heaven',\n",
       " 'its',\n",
       " 'easy',\n",
       " 'if',\n",
       " 'you',\n",
       " 'try',\n",
       " 'no',\n",
       " 'hell',\n",
       " 'below',\n",
       " 'us',\n",
       " 'above',\n",
       " 'us',\n",
       " 'only',\n",
       " 'sky',\n",
       " 'imagine',\n",
       " 'all',\n",
       " 'the',\n",
       " 'people',\n",
       " 'living',\n",
       " 'for',\n",
       " 'today',\n",
       " 'ahaah',\n",
       " 'imagine',\n",
       " 'theres',\n",
       " 'no',\n",
       " 'countries',\n",
       " 'it',\n",
       " 'isnt',\n",
       " 'hard',\n",
       " 'to',\n",
       " 'do',\n",
       " 'nothing',\n",
       " 'to',\n",
       " 'kill',\n",
       " 'or',\n",
       " 'die',\n",
       " 'for',\n",
       " 'and',\n",
       " 'no',\n",
       " 'religion',\n",
       " 'too',\n",
       " 'imagine',\n",
       " 'all',\n",
       " 'the',\n",
       " 'people',\n",
       " 'living',\n",
       " 'life',\n",
       " 'in',\n",
       " 'peace',\n",
       " 'you',\n",
       " 'you',\n",
       " 'may',\n",
       " 'say',\n",
       " 'im',\n",
       " 'a',\n",
       " 'dreamer',\n",
       " 'but',\n",
       " 'im',\n",
       " 'not',\n",
       " 'the',\n",
       " 'only',\n",
       " 'one',\n",
       " 'i',\n",
       " 'hope',\n",
       " 'someday',\n",
       " 'youll',\n",
       " 'join',\n",
       " 'us',\n",
       " 'and',\n",
       " 'the',\n",
       " 'world',\n",
       " 'will',\n",
       " 'be',\n",
       " 'as',\n",
       " 'one',\n",
       " 'imagine',\n",
       " 'no',\n",
       " 'possessions',\n",
       " 'i',\n",
       " 'wonder',\n",
       " 'if',\n",
       " 'you',\n",
       " 'can',\n",
       " 'no',\n",
       " 'need',\n",
       " 'for',\n",
       " 'greed',\n",
       " 'or',\n",
       " 'hunger',\n",
       " 'a',\n",
       " 'brotherhood',\n",
       " 'of',\n",
       " 'man',\n",
       " 'imagine',\n",
       " 'all',\n",
       " 'the',\n",
       " 'people',\n",
       " 'sharing',\n",
       " 'all',\n",
       " 'the',\n",
       " 'world',\n",
       " 'you',\n",
       " 'you',\n",
       " 'may',\n",
       " 'say',\n",
       " 'im',\n",
       " 'a',\n",
       " 'dreamer',\n",
       " 'but',\n",
       " 'im',\n",
       " 'not',\n",
       " 'the',\n",
       " 'only',\n",
       " 'one',\n",
       " 'i',\n",
       " 'hope',\n",
       " 'someday',\n",
       " 'youll',\n",
       " 'join',\n",
       " 'us',\n",
       " 'and',\n",
       " 'the',\n",
       " 'world',\n",
       " 'will',\n",
       " 'live',\n",
       " 'as',\n",
       " 'one']"
      ]
     },
     "execution_count": 153,
     "metadata": {},
     "output_type": "execute_result"
    }
   ],
   "source": [
    "words"
   ]
  },
  {
   "cell_type": "code",
   "execution_count": 155,
   "metadata": {},
   "outputs": [
    {
     "data": {
      "text/plain": [
       "['',\n",
       " 'iby',\n",
       " '',\n",
       " 'zlneize',\n",
       " '',\n",
       " '',\n",
       " 'nlezznwd',\n",
       " 'dadgyrxr',\n",
       " 'wrxvzfob',\n",
       " '',\n",
       " 'ehurcmyvz',\n",
       " 'mf',\n",
       " 't',\n",
       " 'miloaqxacew',\n",
       " 'vuwrmcyy',\n",
       " 'v',\n",
       " 'xxufghkhpzwdit',\n",
       " '',\n",
       " 'at']"
      ]
     },
     "execution_count": 155,
     "metadata": {},
     "output_type": "execute_result"
    }
   ],
   "source": [
    "(\"\".join([choice(keyboard) for _ in range(100)])).split(\" \")"
   ]
  },
  {
   "cell_type": "code",
   "execution_count": 165,
   "metadata": {},
   "outputs": [],
   "source": [
    "def generate_words(sentence_len = 100):\n",
    "    return (\"\".join([choice(keyboard) for _ in range(sentence_len)])).split(\" \")"
   ]
  },
  {
   "cell_type": "code",
   "execution_count": 169,
   "metadata": {},
   "outputs": [
    {
     "data": {
      "text/plain": [
       "['krjeb', '', 'h', 'h']"
      ]
     },
     "execution_count": 169,
     "metadata": {},
     "output_type": "execute_result"
    }
   ],
   "source": [
    "generate_words(10)"
   ]
  },
  {
   "cell_type": "code",
   "execution_count": 170,
   "metadata": {},
   "outputs": [
    {
     "data": {
      "text/plain": [
       "['imagine',\n",
       " 'theres',\n",
       " 'no',\n",
       " 'heaven',\n",
       " 'its',\n",
       " 'easy',\n",
       " 'if',\n",
       " 'you',\n",
       " 'try',\n",
       " 'no',\n",
       " 'hell',\n",
       " 'below',\n",
       " 'us',\n",
       " 'above',\n",
       " 'us',\n",
       " 'only',\n",
       " 'sky',\n",
       " 'imagine',\n",
       " 'all',\n",
       " 'the',\n",
       " 'people',\n",
       " 'living',\n",
       " 'for',\n",
       " 'today',\n",
       " 'ahaah',\n",
       " 'imagine',\n",
       " 'theres',\n",
       " 'no',\n",
       " 'countries',\n",
       " 'it',\n",
       " 'isnt',\n",
       " 'hard',\n",
       " 'to',\n",
       " 'do',\n",
       " 'nothing',\n",
       " 'to',\n",
       " 'kill',\n",
       " 'or',\n",
       " 'die',\n",
       " 'for',\n",
       " 'and',\n",
       " 'no',\n",
       " 'religion',\n",
       " 'too',\n",
       " 'imagine',\n",
       " 'all',\n",
       " 'the',\n",
       " 'people',\n",
       " 'living',\n",
       " 'life',\n",
       " 'in',\n",
       " 'peace',\n",
       " 'you',\n",
       " 'you',\n",
       " 'may',\n",
       " 'say',\n",
       " 'im',\n",
       " 'a',\n",
       " 'dreamer',\n",
       " 'but',\n",
       " 'im',\n",
       " 'not',\n",
       " 'the',\n",
       " 'only',\n",
       " 'one',\n",
       " 'i',\n",
       " 'hope',\n",
       " 'someday',\n",
       " 'youll',\n",
       " 'join',\n",
       " 'us',\n",
       " 'and',\n",
       " 'the',\n",
       " 'world',\n",
       " 'will',\n",
       " 'be',\n",
       " 'as',\n",
       " 'one',\n",
       " 'imagine',\n",
       " 'no',\n",
       " 'possessions',\n",
       " 'i',\n",
       " 'wonder',\n",
       " 'if',\n",
       " 'you',\n",
       " 'can',\n",
       " 'no',\n",
       " 'need',\n",
       " 'for',\n",
       " 'greed',\n",
       " 'or',\n",
       " 'hunger',\n",
       " 'a',\n",
       " 'brotherhood',\n",
       " 'of',\n",
       " 'man',\n",
       " 'imagine',\n",
       " 'all',\n",
       " 'the',\n",
       " 'people',\n",
       " 'sharing',\n",
       " 'all',\n",
       " 'the',\n",
       " 'world',\n",
       " 'you',\n",
       " 'you',\n",
       " 'may',\n",
       " 'say',\n",
       " 'im',\n",
       " 'a',\n",
       " 'dreamer',\n",
       " 'but',\n",
       " 'im',\n",
       " 'not',\n",
       " 'the',\n",
       " 'only',\n",
       " 'one',\n",
       " 'i',\n",
       " 'hope',\n",
       " 'someday',\n",
       " 'youll',\n",
       " 'join',\n",
       " 'us',\n",
       " 'and',\n",
       " 'the',\n",
       " 'world',\n",
       " 'will',\n",
       " 'live',\n",
       " 'as',\n",
       " 'one']"
      ]
     },
     "execution_count": 170,
     "metadata": {},
     "output_type": "execute_result"
    }
   ],
   "source": [
    "words"
   ]
  },
  {
   "cell_type": "code",
   "execution_count": 176,
   "metadata": {},
   "outputs": [
    {
     "data": {
      "text/plain": [
       "['do']"
      ]
     },
     "execution_count": 176,
     "metadata": {},
     "output_type": "execute_result"
    }
   ],
   "source": [
    "generated_words = generate_words(100)\n",
    "\n",
    "[w for w in words if w in generated_words]"
   ]
  },
  {
   "cell_type": "code",
   "execution_count": 177,
   "metadata": {},
   "outputs": [
    {
     "data": {
      "text/plain": [
       "['divicqoywt',\n",
       " 'hirusohyl',\n",
       " 'ywldkbzr',\n",
       " 'mopt',\n",
       " 'goubpsccb',\n",
       " 'temekgcyrnm',\n",
       " 's',\n",
       " 'qp',\n",
       " '',\n",
       " 'do',\n",
       " '',\n",
       " 'cerpglxq',\n",
       " '',\n",
       " 'levufv',\n",
       " 'kbpkgaymsdzpybs',\n",
       " '']"
      ]
     },
     "execution_count": 177,
     "metadata": {},
     "output_type": "execute_result"
    }
   ],
   "source": [
    "generated_words"
   ]
  },
  {
   "cell_type": "code",
   "execution_count": 178,
   "metadata": {},
   "outputs": [
    {
     "data": {
      "text/plain": [
       "['imagine',\n",
       " 'theres',\n",
       " 'no',\n",
       " 'heaven',\n",
       " 'its',\n",
       " 'easy',\n",
       " 'if',\n",
       " 'you',\n",
       " 'try',\n",
       " 'no',\n",
       " 'hell',\n",
       " 'below',\n",
       " 'us',\n",
       " 'above',\n",
       " 'us',\n",
       " 'only',\n",
       " 'sky',\n",
       " 'imagine',\n",
       " 'all',\n",
       " 'the',\n",
       " 'people',\n",
       " 'living',\n",
       " 'for',\n",
       " 'today',\n",
       " 'ahaah',\n",
       " 'imagine',\n",
       " 'theres',\n",
       " 'no',\n",
       " 'countries',\n",
       " 'it',\n",
       " 'isnt',\n",
       " 'hard',\n",
       " 'to',\n",
       " 'do',\n",
       " 'nothing',\n",
       " 'to',\n",
       " 'kill',\n",
       " 'or',\n",
       " 'die',\n",
       " 'for',\n",
       " 'and',\n",
       " 'no',\n",
       " 'religion',\n",
       " 'too',\n",
       " 'imagine',\n",
       " 'all',\n",
       " 'the',\n",
       " 'people',\n",
       " 'living',\n",
       " 'life',\n",
       " 'in',\n",
       " 'peace',\n",
       " 'you',\n",
       " 'you',\n",
       " 'may',\n",
       " 'say',\n",
       " 'im',\n",
       " 'a',\n",
       " 'dreamer',\n",
       " 'but',\n",
       " 'im',\n",
       " 'not',\n",
       " 'the',\n",
       " 'only',\n",
       " 'one',\n",
       " 'i',\n",
       " 'hope',\n",
       " 'someday',\n",
       " 'youll',\n",
       " 'join',\n",
       " 'us',\n",
       " 'and',\n",
       " 'the',\n",
       " 'world',\n",
       " 'will',\n",
       " 'be',\n",
       " 'as',\n",
       " 'one',\n",
       " 'imagine',\n",
       " 'no',\n",
       " 'possessions',\n",
       " 'i',\n",
       " 'wonder',\n",
       " 'if',\n",
       " 'you',\n",
       " 'can',\n",
       " 'no',\n",
       " 'need',\n",
       " 'for',\n",
       " 'greed',\n",
       " 'or',\n",
       " 'hunger',\n",
       " 'a',\n",
       " 'brotherhood',\n",
       " 'of',\n",
       " 'man',\n",
       " 'imagine',\n",
       " 'all',\n",
       " 'the',\n",
       " 'people',\n",
       " 'sharing',\n",
       " 'all',\n",
       " 'the',\n",
       " 'world',\n",
       " 'you',\n",
       " 'you',\n",
       " 'may',\n",
       " 'say',\n",
       " 'im',\n",
       " 'a',\n",
       " 'dreamer',\n",
       " 'but',\n",
       " 'im',\n",
       " 'not',\n",
       " 'the',\n",
       " 'only',\n",
       " 'one',\n",
       " 'i',\n",
       " 'hope',\n",
       " 'someday',\n",
       " 'youll',\n",
       " 'join',\n",
       " 'us',\n",
       " 'and',\n",
       " 'the',\n",
       " 'world',\n",
       " 'will',\n",
       " 'live',\n",
       " 'as',\n",
       " 'one']"
      ]
     },
     "execution_count": 178,
     "metadata": {},
     "output_type": "execute_result"
    }
   ],
   "source": [
    "words"
   ]
  },
  {
   "cell_type": "code",
   "execution_count": 223,
   "metadata": {},
   "outputs": [
    {
     "data": {
      "text/plain": [
       "set()"
      ]
     },
     "execution_count": 223,
     "metadata": {},
     "output_type": "execute_result"
    }
   ],
   "source": [
    "generated_words = generate_words(100)\n",
    "\n",
    "set([w for w in words if w in generated_words])"
   ]
  },
  {
   "cell_type": "code",
   "execution_count": 196,
   "metadata": {},
   "outputs": [
    {
     "data": {
      "text/plain": [
       "{1, 3, 5, 6, 7, 10}"
      ]
     },
     "execution_count": 196,
     "metadata": {},
     "output_type": "execute_result"
    }
   ],
   "source": [
    "set([1,1,3,5,6,6,7,10,10,10])"
   ]
  },
  {
   "cell_type": "code",
   "execution_count": 197,
   "metadata": {},
   "outputs": [],
   "source": [
    "from random import randint"
   ]
  },
  {
   "cell_type": "code",
   "execution_count": 219,
   "metadata": {},
   "outputs": [
    {
     "data": {
      "text/plain": [
       "1"
      ]
     },
     "execution_count": 219,
     "metadata": {},
     "output_type": "execute_result"
    }
   ],
   "source": [
    "30 - len(set([randint(0,365) for _ in range(30)]))"
   ]
  },
  {
   "cell_type": "code",
   "execution_count": 246,
   "metadata": {},
   "outputs": [
    {
     "data": {
      "text/plain": [
       "{'a',\n",
       " 'all',\n",
       " 'and',\n",
       " 'as',\n",
       " 'be',\n",
       " 'below',\n",
       " 'but',\n",
       " 'can',\n",
       " 'die',\n",
       " 'do',\n",
       " 'easy',\n",
       " 'for',\n",
       " 'hard',\n",
       " 'hell',\n",
       " 'hope',\n",
       " 'i',\n",
       " 'if',\n",
       " 'im',\n",
       " 'in',\n",
       " 'isnt',\n",
       " 'it',\n",
       " 'its',\n",
       " 'join',\n",
       " 'kill',\n",
       " 'life',\n",
       " 'live',\n",
       " 'man',\n",
       " 'may',\n",
       " 'need',\n",
       " 'no',\n",
       " 'not',\n",
       " 'of',\n",
       " 'one',\n",
       " 'only',\n",
       " 'or',\n",
       " 'say',\n",
       " 'sky',\n",
       " 'the',\n",
       " 'to',\n",
       " 'too',\n",
       " 'try',\n",
       " 'us',\n",
       " 'will',\n",
       " 'you'}"
      ]
     },
     "execution_count": 246,
     "metadata": {},
     "output_type": "execute_result"
    }
   ],
   "source": [
    "generated_words = generate_words(100000000)\n",
    "\n",
    "set([w for w in words if w in generated_words])"
   ]
  },
  {
   "cell_type": "code",
   "execution_count": 249,
   "metadata": {},
   "outputs": [
    {
     "data": {
      "text/plain": [
       "66"
      ]
     },
     "execution_count": 249,
     "metadata": {},
     "output_type": "execute_result"
    }
   ],
   "source": [
    "len(set(words))"
   ]
  },
  {
   "cell_type": "code",
   "execution_count": 248,
   "metadata": {},
   "outputs": [
    {
     "data": {
      "text/plain": [
       "44"
      ]
     },
     "execution_count": 248,
     "metadata": {},
     "output_type": "execute_result"
    }
   ],
   "source": [
    "len({'a',\n",
    " 'all',\n",
    " 'and',\n",
    " 'as',\n",
    " 'be',\n",
    " 'below',\n",
    " 'but',\n",
    " 'can',\n",
    " 'die',\n",
    " 'do',\n",
    " 'easy',\n",
    " 'for',\n",
    " 'hard',\n",
    " 'hell',\n",
    " 'hope',\n",
    " 'i',\n",
    " 'if',\n",
    " 'im',\n",
    " 'in',\n",
    " 'isnt',\n",
    " 'it',\n",
    " 'its',\n",
    " 'join',\n",
    " 'kill',\n",
    " 'life',\n",
    " 'live',\n",
    " 'man',\n",
    " 'may',\n",
    " 'need',\n",
    " 'no',\n",
    " 'not',\n",
    " 'of',\n",
    " 'one',\n",
    " 'only',\n",
    " 'or',\n",
    " 'say',\n",
    " 'sky',\n",
    " 'the',\n",
    " 'to',\n",
    " 'too',\n",
    " 'try',\n",
    " 'us',\n",
    " 'will',\n",
    " 'you'})"
   ]
  },
  {
   "cell_type": "code",
   "execution_count": 250,
   "metadata": {},
   "outputs": [
    {
     "data": {
      "text/plain": [
       "['imagine',\n",
       " 'theres',\n",
       " 'no',\n",
       " 'heaven',\n",
       " 'its',\n",
       " 'easy',\n",
       " 'if',\n",
       " 'you',\n",
       " 'try',\n",
       " 'no',\n",
       " 'hell',\n",
       " 'below',\n",
       " 'us',\n",
       " 'above',\n",
       " 'us',\n",
       " 'only',\n",
       " 'sky',\n",
       " 'imagine',\n",
       " 'all',\n",
       " 'the',\n",
       " 'people',\n",
       " 'living',\n",
       " 'for',\n",
       " 'today',\n",
       " 'ahaah',\n",
       " 'imagine',\n",
       " 'theres',\n",
       " 'no',\n",
       " 'countries',\n",
       " 'it',\n",
       " 'isnt',\n",
       " 'hard',\n",
       " 'to',\n",
       " 'do',\n",
       " 'nothing',\n",
       " 'to',\n",
       " 'kill',\n",
       " 'or',\n",
       " 'die',\n",
       " 'for',\n",
       " 'and',\n",
       " 'no',\n",
       " 'religion',\n",
       " 'too',\n",
       " 'imagine',\n",
       " 'all',\n",
       " 'the',\n",
       " 'people',\n",
       " 'living',\n",
       " 'life',\n",
       " 'in',\n",
       " 'peace',\n",
       " 'you',\n",
       " 'you',\n",
       " 'may',\n",
       " 'say',\n",
       " 'im',\n",
       " 'a',\n",
       " 'dreamer',\n",
       " 'but',\n",
       " 'im',\n",
       " 'not',\n",
       " 'the',\n",
       " 'only',\n",
       " 'one',\n",
       " 'i',\n",
       " 'hope',\n",
       " 'someday',\n",
       " 'youll',\n",
       " 'join',\n",
       " 'us',\n",
       " 'and',\n",
       " 'the',\n",
       " 'world',\n",
       " 'will',\n",
       " 'be',\n",
       " 'as',\n",
       " 'one',\n",
       " 'imagine',\n",
       " 'no',\n",
       " 'possessions',\n",
       " 'i',\n",
       " 'wonder',\n",
       " 'if',\n",
       " 'you',\n",
       " 'can',\n",
       " 'no',\n",
       " 'need',\n",
       " 'for',\n",
       " 'greed',\n",
       " 'or',\n",
       " 'hunger',\n",
       " 'a',\n",
       " 'brotherhood',\n",
       " 'of',\n",
       " 'man',\n",
       " 'imagine',\n",
       " 'all',\n",
       " 'the',\n",
       " 'people',\n",
       " 'sharing',\n",
       " 'all',\n",
       " 'the',\n",
       " 'world',\n",
       " 'you',\n",
       " 'you',\n",
       " 'may',\n",
       " 'say',\n",
       " 'im',\n",
       " 'a',\n",
       " 'dreamer',\n",
       " 'but',\n",
       " 'im',\n",
       " 'not',\n",
       " 'the',\n",
       " 'only',\n",
       " 'one',\n",
       " 'i',\n",
       " 'hope',\n",
       " 'someday',\n",
       " 'youll',\n",
       " 'join',\n",
       " 'us',\n",
       " 'and',\n",
       " 'the',\n",
       " 'world',\n",
       " 'will',\n",
       " 'live',\n",
       " 'as',\n",
       " 'one']"
      ]
     },
     "execution_count": 250,
     "metadata": {},
     "output_type": "execute_result"
    }
   ],
   "source": [
    "words"
   ]
  },
  {
   "cell_type": "code",
   "execution_count": 251,
   "metadata": {},
   "outputs": [],
   "source": [
    "lennon = \"\"\"Standing on the corner\n",
    "Just me and yoko ono\n",
    "We was waiting for jerry to land\n",
    "Up come a man with the guitar\n",
    "in his hand\n",
    "Singing \"have a marijuana if you can\"\n",
    "His name was Davis Peel\n",
    "And we found that he was real\n",
    "He sangs\"The pope smokes\n",
    "dope everyday\"\n",
    "Up come a police man shoved\n",
    "us up the street\n",
    "Singin, \"power to the\n",
    "people today!\"\n",
    "\n",
    "NYC...NYC...NYC\n",
    "Que pasa Ny?...Que pasa NY?\n",
    "\n",
    "Well we went to max's\n",
    "Kansas City\n",
    "Got down the nitty gritty\n",
    "With the Elephants Memory\n",
    "Band\n",
    "Laid something down\n",
    "As the news spread around\n",
    "About the Plastic Ono\n",
    "Elephants Memory Band!\n",
    "Well we played some funky\n",
    "boogie\n",
    "And laid some tutti frutti\n",
    "Singing \"Long tall sally's\n",
    "a man\"\n",
    "Up come a preachman trying to be a teacher\n",
    "Singing \"God's a red herring in grag!\"\n",
    "\n",
    "NYC...NYC...NYC\n",
    "Que pasa Ny?...Que pasa NY?\n",
    "Well we did the Staten\n",
    "Island Ferry\n",
    "Making movies for the telly\n",
    "Played the fillmore and\n",
    "Apollo for freedom,\n",
    "Tried to shake our image\n",
    "Just a cycling through\n",
    "the village\n",
    "But found that we had left it\n",
    "back in london.\n",
    "Well nobody came to bug us,\n",
    "hustle ud or shove us\n",
    "so we decided to make it\n",
    "our home\n",
    "If the man wants to shove\n",
    "us out\n",
    "We gonna jump and shout\n",
    "The Statue of Liberty said,\n",
    "\"come!\"\n",
    "\n",
    "NYC...NYC...NYC\n",
    "Que pasa Ny?...Que pasa NY?\n",
    "\n",
    "NYC down in the village\n",
    "What a bad-ass city!\n",
    "Que pasa Ny?...Que pasa NY?\n",
    "You gotta live\n",
    "You gotta love\n",
    "You gotta be somebody\n",
    "You gotta shove\n",
    "But it's so hard, it's really hard\n",
    "Sometimes I feel like going down\n",
    "\n",
    "You gotta eat\n",
    "You gotta drink\n",
    "You gotta feel something\n",
    "You gotta worry\n",
    "But it's so hard, it's really hard\n",
    "Sometimes I feel like going down\n",
    "\n",
    "But when it's good\n",
    "It's really good\n",
    "And when I hold you in my arms baby\n",
    "Sometimes I feel like going down\n",
    "\n",
    "You gotta run\n",
    "You gotta hide\n",
    "You gotta keep your woman satisfied\n",
    "But it's so hard, it's really hard\n",
    "Sometimes I feel like going down\n",
    "Woman is the nigger of the world\n",
    "Yes she is... think about it\n",
    "Woman is the nigger of the world\n",
    "Think about it... do something about it\n",
    "\n",
    "We make her paint her face and dance\n",
    "If she won't be a slave, we say that she don't love us\n",
    "If she's real, we say she's trying to be a man\n",
    "While putting her down we pretend that she is above us\n",
    "Woman is the nigger of the world... yes she is\n",
    "If you don't believe me take a look to the one you're with\n",
    "Woman is the slave of the slaves\n",
    "Ah yeah... better scream about it\n",
    "We make her bear and raise our children\n",
    "And then we leave her flat for being a fat old mother hen\n",
    "We tell her home is the only place she should be\n",
    "Then we complain that she's too unworldly to be our friend\n",
    "Woman is the nigger of the world...yes she is\n",
    "If you don't believe me take a look to the one you're with\n",
    "Woman is the slave to the slaves\n",
    "Yeah (think about it)\n",
    "\n",
    "We insult her everyday on TV\n",
    "And wonder why she has no guts or confidence\n",
    "When she's young we kill her will to be free\n",
    "While telling her not to be so smart we put her down for being so dumb\n",
    "Woman is the nigger of the world... yes she is\n",
    "If you don't believe me take a look to the one you're with\n",
    "Woman is the slave to the slaves\n",
    "Yes she is... if you believe me, you better scream about it\n",
    "\n",
    "[Repeat:]\n",
    "We make her paint her face and dance\n",
    "We make her paint her face and dance\n",
    "We make her paint her face and dance\n",
    "I took my loved one out to dinner\n",
    "So we could get a bite to eat\n",
    "And though we both had been much thinner\n",
    "She looked so beautiful I could eat her\n",
    "Well Well Well Oh Well\n",
    "\n",
    "We sat and talked of revolution\n",
    "just like to librals in the sun\n",
    "we talked of womens liberation\n",
    "and how the hell we could get thing done\n",
    "Well Well Well Oh Well\n",
    "\n",
    "I took my loved one to a big field\n",
    "So we could watch the english sky\n",
    "Were both feeling guilty\n",
    "And neither one of us knew just why\n",
    "Well Well Well Oh Well\n",
    "Instant Karma's gonna get you\n",
    "Gonna knock you right on the head\n",
    "You better get yourself together\n",
    "Pretty soon you're gonna be dead\n",
    "What in the world you thinking of\n",
    "Laughing in the face of love\n",
    "What on earth you tryin' to do\n",
    "It's up to you, yeah you\n",
    "\n",
    "Instant Karma's gonna get you\n",
    "Gonna look you right in the face\n",
    "Better get yourself together darlin'\n",
    "Join the human race\n",
    "How in the world you gonna see\n",
    "Laughin' at fools like me\n",
    "Who in the hell d'you think you are\n",
    "A super star\n",
    "Well, right you are\n",
    "\n",
    "Well we all shine on\n",
    "Like the moon and the stars and the sun\n",
    "Well we all shine on\n",
    "Ev'ryone come on\n",
    "\n",
    "Instant Karma's gonna get you\n",
    "Gonna knock you off your feet\n",
    "Better recognize your brothers\n",
    "Ev'ryone you meet\n",
    "Why in the world are we here\n",
    "Surely not to live in pain and fear\n",
    "Why on earth are you there\n",
    "When you're ev'rywhere\n",
    "Come and get your share\n",
    "\n",
    "Well we all shine on\n",
    "Like the moon and the stars and the sun\n",
    "Yeah we all shine on\n",
    "Come on and on and on on on\n",
    "Yeah yeah, alright, uh huh, ah\n",
    "\n",
    "Well we all shine on\n",
    "Like the moon and the stars and the sun\n",
    "Yeah we all shine on\n",
    "On and on and on on and on\n",
    "\n",
    "Well we all shine on\n",
    "Like the moon and the stars and the sun\n",
    "Well we all shine on\n",
    "Like the moon and the stars and the sun\n",
    "Well we all shine on\n",
    "Like the moon and the stars and the sun\n",
    "Yeah we all shine on\n",
    "Like the moon and the stars and the sun\n",
    "Mother, you had me but I never had you\n",
    "I wanted you, you didn't want me\n",
    "So I, I just gotta tell you\n",
    "Goodbye, goodbye\n",
    "\n",
    "Father, you left me but I never left you\n",
    "I needed you, you didn't need me\n",
    "So I, I just gotta tell you\n",
    "Goodbye, goodbye\n",
    "\n",
    "Children, don't do what I have done\n",
    "I couldn't walk and I tried to run\n",
    "So I, I just gotta tell you\n",
    "Goodbye, goodbye\n",
    "\n",
    "[4x]\n",
    "Mamma, don't go\n",
    "Daddy, come home\n",
    "Here come old flattop he come grooving up slowly\n",
    "He got joo-joo eyeball he one holy roller\n",
    "He got hair down to his knee\n",
    "Got to be a joker he just do what he please\n",
    "\n",
    "He wear no shoeshine he got toe-jam football\n",
    "He got monkey finger he shoot coca-cola\n",
    "He say \"I know you, you know me\"\n",
    "One thing I can tell you is you got to be free\n",
    "Come together right now over me\n",
    "\n",
    "He bag production he got walrus gumboot\n",
    "He got Ono sideboard he one spinal cracker\n",
    "He got feet down below his knee\n",
    "Hold you in his armchair you can feel his disease\n",
    "Come together right now over me\n",
    "\n",
    "He roller-coaster he got early warning\n",
    "He got muddy water he one mojo filter\n",
    "He say \"One and one and one is three\"\n",
    "Got to be good-looking 'cause he's so hard to see\n",
    "Come together right now over me\n",
    "Imagine there's no heaven\n",
    "It's easy if you try\n",
    "No hell below us\n",
    "Above us only sky\n",
    "Imagine all the people\n",
    "Living for today... Aha-ah...\n",
    "\n",
    "Imagine there's no countries\n",
    "It isn't hard to do\n",
    "Nothing to kill or die for\n",
    "And no religion, too\n",
    "Imagine all the people\n",
    "Living life in peace... You...\n",
    "\n",
    "You may say I'm a dreamer\n",
    "But I'm not the only one\n",
    "I hope someday you'll join us\n",
    "And the world will be as one\n",
    "\n",
    "Imagine no possessions\n",
    "I wonder if you can\n",
    "No need for greed or hunger\n",
    "A brotherhood of man\n",
    "Imagine all the people\n",
    "Sharing all the world... You...\n",
    "\n",
    "You may say I'm a dreamer\n",
    "But I'm not the only one\n",
    "I hope someday you'll join us\n",
    "And the world will live as one\n",
    "Temperature's rising\n",
    "Fever is high\n",
    "Can't see no future\n",
    "Can't see no sky\n",
    "\n",
    "My feet are so heavy\n",
    "So is my head\n",
    "I wish I was a baby\n",
    "I wish I was dead\n",
    "\n",
    "Cold turkey has got me on the run\n",
    "\n",
    "My body is aching\n",
    "Goose-pimple bone\n",
    "Can't see no body\n",
    "Leave me alone\n",
    "\n",
    "My eyes are wide open\n",
    "Can't get to sleep\n",
    "One thing I'm sure of\n",
    "I'm in at the deep freeze\n",
    "\n",
    "Cold turkey has got me on the run\n",
    "\n",
    "Cold turkey has got me on the run\n",
    "\n",
    "Thirty-six hours\n",
    "Rolling in pain\n",
    "Praying to someone\n",
    "Free me again\n",
    "\n",
    "Oh I'll be a good boy\n",
    "Please make me well\n",
    "I promise you anything\n",
    "Get me out of this hell\n",
    "\n",
    "Cold turkey has got me on the run\n",
    "Oh, oh, oh, oh\n",
    "You ain't nothin' but a hound dog\n",
    "Cryin' all the time\n",
    "You ain't nothin' but a hound dog\n",
    "Cryin' all the time\n",
    "You ain't never caught a rabbit\n",
    "And you ain't no friend of mine\n",
    "\n",
    "Well, they said that you was high classed\n",
    "That was just a lie\n",
    "Well, they said that you was high classed\n",
    "That was just a lie\n",
    "You ain't never caught no rabbit\n",
    "You ain't no friend of mine\n",
    "\n",
    "You ain't nothin' but a hound dog\n",
    "Cryin' all the time\n",
    "You ain't nothin' but a hound dog\n",
    "Cryin' all the time\n",
    "You ain't never caught no rabbit\n",
    "You ain't no friend of mine\n",
    "\n",
    "You ain't nothin' but a hound dog\n",
    "Cryin' all the time\n",
    "You ain't nothin' but hound dog\n",
    "Cryin' all the time\n",
    "You ain't never caught a rabbit\n",
    "You ain't no friend of mine\n",
    "\n",
    "Well, they said that you was high classed\n",
    "Well, that's just a lie\n",
    "Well, they said that you was high classed, babe\n",
    "You know it's a lie\n",
    "You ain't never caught no rabbit\n",
    "You ain't no friend of mine\n",
    "\n",
    "You ain't nothin' but a hound dog\n",
    "Cryin' all the time\n",
    "You ain't nothin' but a hound dog\n",
    "Cryin' all the time\n",
    "You ain't never caught no rabbit\n",
    "You ain't no friend of mine\n",
    "Two, one two three four\n",
    "Ev'rybody's talking about\n",
    "Bagism, Shagism, Dragism, Madism, Ragism, Tagism\n",
    "This-ism, that-ism, is-m, is-m, is-m. \n",
    "\n",
    "All we are saying is give peace a chance\n",
    "All we are saying is give peace a chance \n",
    "\n",
    "C'mon\n",
    "Ev'rybody's talking about Ministers,\n",
    "Sinisters, Banisters and canisters\n",
    "Bishops and Fishops and Rabbis and Pop eyes,\n",
    "And bye bye, bye byes. \n",
    "\n",
    "All we are saying is give peace a chance\n",
    "All we are saying is give peace a chance \n",
    "\n",
    "Let me tell you now\n",
    "Ev'rybody's talking about\n",
    "Revolution, evolution, masturbation,\n",
    "Flagellation, regulation, integrations,\n",
    "Meditations, United Nations,\n",
    "Congratulations. \n",
    "\n",
    "Ev'rybody's talking about\n",
    "John and Yoko, Timmy Leary, Rosemary,\n",
    "Tommy Smothers, Bobby Dylan, Tommy Cooper,\n",
    "Derek Taylor, Norman Mailer,\n",
    "Alan Ginsberg, Hare Krishna,\n",
    "Hare, Hare Krishna\"\"\""
   ]
  },
  {
   "cell_type": "code",
   "execution_count": 254,
   "metadata": {},
   "outputs": [],
   "source": [
    "dictionary = clean_text(lennon).split(\" \")"
   ]
  },
  {
   "cell_type": "code",
   "execution_count": 257,
   "metadata": {},
   "outputs": [
    {
     "data": {
      "text/plain": [
       "500"
      ]
     },
     "execution_count": 257,
     "metadata": {},
     "output_type": "execute_result"
    }
   ],
   "source": [
    "len(set(dictionary))"
   ]
  },
  {
   "cell_type": "code",
   "execution_count": 262,
   "metadata": {},
   "outputs": [
    {
     "data": {
      "text/plain": [
       "'pretend dog not smart world dumb the talking youre her'"
      ]
     },
     "execution_count": 262,
     "metadata": {},
     "output_type": "execute_result"
    }
   ],
   "source": [
    "\" \".join([choice(dictionary) for _ in range(10)])"
   ]
  },
  {
   "cell_type": "code",
   "execution_count": 263,
   "metadata": {},
   "outputs": [
    {
     "data": {
      "text/plain": [
       "['imagine',\n",
       " 'theres',\n",
       " 'no',\n",
       " 'heaven',\n",
       " 'its',\n",
       " 'easy',\n",
       " 'if',\n",
       " 'you',\n",
       " 'try',\n",
       " 'no',\n",
       " 'hell',\n",
       " 'below',\n",
       " 'us',\n",
       " 'above',\n",
       " 'us',\n",
       " 'only',\n",
       " 'sky',\n",
       " 'imagine',\n",
       " 'all',\n",
       " 'the',\n",
       " 'people',\n",
       " 'living',\n",
       " 'for',\n",
       " 'today',\n",
       " 'ahaah',\n",
       " 'imagine',\n",
       " 'theres',\n",
       " 'no',\n",
       " 'countries',\n",
       " 'it',\n",
       " 'isnt',\n",
       " 'hard',\n",
       " 'to',\n",
       " 'do',\n",
       " 'nothing',\n",
       " 'to',\n",
       " 'kill',\n",
       " 'or',\n",
       " 'die',\n",
       " 'for',\n",
       " 'and',\n",
       " 'no',\n",
       " 'religion',\n",
       " 'too',\n",
       " 'imagine',\n",
       " 'all',\n",
       " 'the',\n",
       " 'people',\n",
       " 'living',\n",
       " 'life',\n",
       " 'in',\n",
       " 'peace',\n",
       " 'you',\n",
       " 'you',\n",
       " 'may',\n",
       " 'say',\n",
       " 'im',\n",
       " 'a',\n",
       " 'dreamer',\n",
       " 'but',\n",
       " 'im',\n",
       " 'not',\n",
       " 'the',\n",
       " 'only',\n",
       " 'one',\n",
       " 'i',\n",
       " 'hope',\n",
       " 'someday',\n",
       " 'youll',\n",
       " 'join',\n",
       " 'us',\n",
       " 'and',\n",
       " 'the',\n",
       " 'world',\n",
       " 'will',\n",
       " 'be',\n",
       " 'as',\n",
       " 'one',\n",
       " 'imagine',\n",
       " 'no',\n",
       " 'possessions',\n",
       " 'i',\n",
       " 'wonder',\n",
       " 'if',\n",
       " 'you',\n",
       " 'can',\n",
       " 'no',\n",
       " 'need',\n",
       " 'for',\n",
       " 'greed',\n",
       " 'or',\n",
       " 'hunger',\n",
       " 'a',\n",
       " 'brotherhood',\n",
       " 'of',\n",
       " 'man',\n",
       " 'imagine',\n",
       " 'all',\n",
       " 'the',\n",
       " 'people',\n",
       " 'sharing',\n",
       " 'all',\n",
       " 'the',\n",
       " 'world',\n",
       " 'you',\n",
       " 'you',\n",
       " 'may',\n",
       " 'say',\n",
       " 'im',\n",
       " 'a',\n",
       " 'dreamer',\n",
       " 'but',\n",
       " 'im',\n",
       " 'not',\n",
       " 'the',\n",
       " 'only',\n",
       " 'one',\n",
       " 'i',\n",
       " 'hope',\n",
       " 'someday',\n",
       " 'youll',\n",
       " 'join',\n",
       " 'us',\n",
       " 'and',\n",
       " 'the',\n",
       " 'world',\n",
       " 'will',\n",
       " 'live',\n",
       " 'as',\n",
       " 'one']"
      ]
     },
     "execution_count": 263,
     "metadata": {},
     "output_type": "execute_result"
    }
   ],
   "source": [
    "words"
   ]
  },
  {
   "cell_type": "code",
   "execution_count": 265,
   "metadata": {},
   "outputs": [
    {
     "ename": "SyntaxError",
     "evalue": "invalid syntax (<ipython-input-265-bd33ae826995>, line 1)",
     "output_type": "error",
     "traceback": [
      "\u001b[0;36m  File \u001b[0;32m\"<ipython-input-265-bd33ae826995>\"\u001b[0;36m, line \u001b[0;32m1\u001b[0m\n\u001b[0;31m    imagine theres\u001b[0m\n\u001b[0m                 ^\u001b[0m\n\u001b[0;31mSyntaxError\u001b[0m\u001b[0;31m:\u001b[0m invalid syntax\n"
     ]
    }
   ],
   "source": [
    "('imagine', 'theres')\n",
    "('theres',  'no')\n",
    "('no',      'heaven')\n",
    "('heaven',  'its')\n",
    "('its',     'easy')\n",
    "('easy',    'if')"
   ]
  },
  {
   "cell_type": "code",
   "execution_count": 267,
   "metadata": {},
   "outputs": [],
   "source": [
    "l = [10, 20, 30, 40, 50]\n",
    "\n",
    "# 10, 20\n",
    "# 20, 30\n",
    "# 30, 40\n",
    "# 40, 50"
   ]
  },
  {
   "cell_type": "code",
   "execution_count": 268,
   "metadata": {},
   "outputs": [
    {
     "data": {
      "text/plain": [
       "[10, 20, 30, 40]"
      ]
     },
     "execution_count": 268,
     "metadata": {},
     "output_type": "execute_result"
    }
   ],
   "source": [
    "l_left = l[:-1]\n",
    "l_left"
   ]
  },
  {
   "cell_type": "code",
   "execution_count": 269,
   "metadata": {},
   "outputs": [
    {
     "data": {
      "text/plain": [
       "[20, 30, 40, 50]"
      ]
     },
     "execution_count": 269,
     "metadata": {},
     "output_type": "execute_result"
    }
   ],
   "source": [
    "l_right = l[1:]\n",
    "l_right"
   ]
  },
  {
   "cell_type": "code",
   "execution_count": 271,
   "metadata": {},
   "outputs": [
    {
     "data": {
      "text/plain": [
       "[(10, 20), (20, 30), (30, 40), (40, 50)]"
      ]
     },
     "execution_count": 271,
     "metadata": {},
     "output_type": "execute_result"
    }
   ],
   "source": [
    "list(zip(l_left, l_right))"
   ]
  },
  {
   "cell_type": "code",
   "execution_count": 275,
   "metadata": {},
   "outputs": [],
   "source": [
    "a = ['dog', 'cat', 'cow']\n",
    "b = ['yellow', 'orange', 'black']"
   ]
  },
  {
   "cell_type": "code",
   "execution_count": 276,
   "metadata": {},
   "outputs": [
    {
     "data": {
      "text/plain": [
       "[('dog', 'yellow'), ('cat', 'orange'), ('cow', 'black')]"
      ]
     },
     "execution_count": 276,
     "metadata": {},
     "output_type": "execute_result"
    }
   ],
   "source": [
    "list(zip(a, b))"
   ]
  },
  {
   "cell_type": "code",
   "execution_count": 277,
   "metadata": {},
   "outputs": [
    {
     "data": {
      "text/plain": [
       "[('imagine', 'theres'),\n",
       " ('theres', 'no'),\n",
       " ('no', 'heaven'),\n",
       " ('heaven', 'its'),\n",
       " ('its', 'easy'),\n",
       " ('easy', 'if'),\n",
       " ('if', 'you'),\n",
       " ('you', 'try'),\n",
       " ('try', 'no'),\n",
       " ('no', 'hell'),\n",
       " ('hell', 'below'),\n",
       " ('below', 'us'),\n",
       " ('us', 'above'),\n",
       " ('above', 'us'),\n",
       " ('us', 'only'),\n",
       " ('only', 'sky'),\n",
       " ('sky', 'imagine'),\n",
       " ('imagine', 'all'),\n",
       " ('all', 'the'),\n",
       " ('the', 'people'),\n",
       " ('people', 'living'),\n",
       " ('living', 'for'),\n",
       " ('for', 'today'),\n",
       " ('today', 'ahaah'),\n",
       " ('ahaah', 'imagine'),\n",
       " ('imagine', 'theres'),\n",
       " ('theres', 'no'),\n",
       " ('no', 'countries'),\n",
       " ('countries', 'it'),\n",
       " ('it', 'isnt'),\n",
       " ('isnt', 'hard'),\n",
       " ('hard', 'to'),\n",
       " ('to', 'do'),\n",
       " ('do', 'nothing'),\n",
       " ('nothing', 'to'),\n",
       " ('to', 'kill'),\n",
       " ('kill', 'or'),\n",
       " ('or', 'die'),\n",
       " ('die', 'for'),\n",
       " ('for', 'and'),\n",
       " ('and', 'no'),\n",
       " ('no', 'religion'),\n",
       " ('religion', 'too'),\n",
       " ('too', 'imagine'),\n",
       " ('imagine', 'all'),\n",
       " ('all', 'the'),\n",
       " ('the', 'people'),\n",
       " ('people', 'living'),\n",
       " ('living', 'life'),\n",
       " ('life', 'in'),\n",
       " ('in', 'peace'),\n",
       " ('peace', 'you'),\n",
       " ('you', 'you'),\n",
       " ('you', 'may'),\n",
       " ('may', 'say'),\n",
       " ('say', 'im'),\n",
       " ('im', 'a'),\n",
       " ('a', 'dreamer'),\n",
       " ('dreamer', 'but'),\n",
       " ('but', 'im'),\n",
       " ('im', 'not'),\n",
       " ('not', 'the'),\n",
       " ('the', 'only'),\n",
       " ('only', 'one'),\n",
       " ('one', 'i'),\n",
       " ('i', 'hope'),\n",
       " ('hope', 'someday'),\n",
       " ('someday', 'youll'),\n",
       " ('youll', 'join'),\n",
       " ('join', 'us'),\n",
       " ('us', 'and'),\n",
       " ('and', 'the'),\n",
       " ('the', 'world'),\n",
       " ('world', 'will'),\n",
       " ('will', 'be'),\n",
       " ('be', 'as'),\n",
       " ('as', 'one'),\n",
       " ('one', 'imagine'),\n",
       " ('imagine', 'no'),\n",
       " ('no', 'possessions'),\n",
       " ('possessions', 'i'),\n",
       " ('i', 'wonder'),\n",
       " ('wonder', 'if'),\n",
       " ('if', 'you'),\n",
       " ('you', 'can'),\n",
       " ('can', 'no'),\n",
       " ('no', 'need'),\n",
       " ('need', 'for'),\n",
       " ('for', 'greed'),\n",
       " ('greed', 'or'),\n",
       " ('or', 'hunger'),\n",
       " ('hunger', 'a'),\n",
       " ('a', 'brotherhood'),\n",
       " ('brotherhood', 'of'),\n",
       " ('of', 'man'),\n",
       " ('man', 'imagine'),\n",
       " ('imagine', 'all'),\n",
       " ('all', 'the'),\n",
       " ('the', 'people'),\n",
       " ('people', 'sharing'),\n",
       " ('sharing', 'all'),\n",
       " ('all', 'the'),\n",
       " ('the', 'world'),\n",
       " ('world', 'you'),\n",
       " ('you', 'you'),\n",
       " ('you', 'may'),\n",
       " ('may', 'say'),\n",
       " ('say', 'im'),\n",
       " ('im', 'a'),\n",
       " ('a', 'dreamer'),\n",
       " ('dreamer', 'but'),\n",
       " ('but', 'im'),\n",
       " ('im', 'not'),\n",
       " ('not', 'the'),\n",
       " ('the', 'only'),\n",
       " ('only', 'one'),\n",
       " ('one', 'i'),\n",
       " ('i', 'hope'),\n",
       " ('hope', 'someday'),\n",
       " ('someday', 'youll'),\n",
       " ('youll', 'join'),\n",
       " ('join', 'us'),\n",
       " ('us', 'and'),\n",
       " ('and', 'the'),\n",
       " ('the', 'world'),\n",
       " ('world', 'will'),\n",
       " ('will', 'live'),\n",
       " ('live', 'as'),\n",
       " ('as', 'one')]"
      ]
     },
     "execution_count": 277,
     "metadata": {},
     "output_type": "execute_result"
    }
   ],
   "source": [
    "list(zip(words[:-1], words[1:]))"
   ]
  },
  {
   "cell_type": "code",
   "execution_count": 281,
   "metadata": {},
   "outputs": [
    {
     "data": {
      "text/plain": [
       "[('c', 'p'), ('i', 'r'), ('a', 'o'), ('o', 'v')]"
      ]
     },
     "execution_count": 281,
     "metadata": {},
     "output_type": "execute_result"
    }
   ],
   "source": [
    "list(zip(\"ciao\", \"prova123prova\"))"
   ]
  },
  {
   "cell_type": "code",
   "execution_count": 294,
   "metadata": {},
   "outputs": [],
   "source": [
    "def couples(words):\n",
    "    return list(zip(words, words[1:]))"
   ]
  },
  {
   "cell_type": "code",
   "execution_count": 292,
   "metadata": {},
   "outputs": [
    {
     "data": {
      "text/plain": [
       "'mo'"
      ]
     },
     "execution_count": 292,
     "metadata": {},
     "output_type": "execute_result"
    }
   ],
   "source": [
    "\"simone\"[2:4]"
   ]
  },
  {
   "cell_type": "code",
   "execution_count": null,
   "metadata": {},
   "outputs": [],
   "source": [
    "giallo giallo\n",
    "nero   nero\n",
    "verde  verde\n",
    "rosso  rosso\n",
    "\n",
    "\n",
    "nero   giallo\n",
    "verde  nero\n",
    "rosso  verde"
   ]
  },
  {
   "cell_type": "code",
   "execution_count": 295,
   "metadata": {},
   "outputs": [
    {
     "data": {
      "text/plain": [
       "[('imagine', 'theres'),\n",
       " ('theres', 'no'),\n",
       " ('no', 'heaven'),\n",
       " ('heaven', 'its'),\n",
       " ('its', 'easy'),\n",
       " ('easy', 'if'),\n",
       " ('if', 'you'),\n",
       " ('you', 'try'),\n",
       " ('try', 'no'),\n",
       " ('no', 'hell'),\n",
       " ('hell', 'below'),\n",
       " ('below', 'us'),\n",
       " ('us', 'above'),\n",
       " ('above', 'us'),\n",
       " ('us', 'only'),\n",
       " ('only', 'sky'),\n",
       " ('sky', 'imagine'),\n",
       " ('imagine', 'all'),\n",
       " ('all', 'the'),\n",
       " ('the', 'people'),\n",
       " ('people', 'living'),\n",
       " ('living', 'for'),\n",
       " ('for', 'today'),\n",
       " ('today', 'ahaah'),\n",
       " ('ahaah', 'imagine'),\n",
       " ('imagine', 'theres'),\n",
       " ('theres', 'no'),\n",
       " ('no', 'countries'),\n",
       " ('countries', 'it'),\n",
       " ('it', 'isnt'),\n",
       " ('isnt', 'hard'),\n",
       " ('hard', 'to'),\n",
       " ('to', 'do'),\n",
       " ('do', 'nothing'),\n",
       " ('nothing', 'to'),\n",
       " ('to', 'kill'),\n",
       " ('kill', 'or'),\n",
       " ('or', 'die'),\n",
       " ('die', 'for'),\n",
       " ('for', 'and'),\n",
       " ('and', 'no'),\n",
       " ('no', 'religion'),\n",
       " ('religion', 'too'),\n",
       " ('too', 'imagine'),\n",
       " ('imagine', 'all'),\n",
       " ('all', 'the'),\n",
       " ('the', 'people'),\n",
       " ('people', 'living'),\n",
       " ('living', 'life'),\n",
       " ('life', 'in'),\n",
       " ('in', 'peace'),\n",
       " ('peace', 'you'),\n",
       " ('you', 'you'),\n",
       " ('you', 'may'),\n",
       " ('may', 'say'),\n",
       " ('say', 'im'),\n",
       " ('im', 'a'),\n",
       " ('a', 'dreamer'),\n",
       " ('dreamer', 'but'),\n",
       " ('but', 'im'),\n",
       " ('im', 'not'),\n",
       " ('not', 'the'),\n",
       " ('the', 'only'),\n",
       " ('only', 'one'),\n",
       " ('one', 'i'),\n",
       " ('i', 'hope'),\n",
       " ('hope', 'someday'),\n",
       " ('someday', 'youll'),\n",
       " ('youll', 'join'),\n",
       " ('join', 'us'),\n",
       " ('us', 'and'),\n",
       " ('and', 'the'),\n",
       " ('the', 'world'),\n",
       " ('world', 'will'),\n",
       " ('will', 'be'),\n",
       " ('be', 'as'),\n",
       " ('as', 'one'),\n",
       " ('one', 'imagine'),\n",
       " ('imagine', 'no'),\n",
       " ('no', 'possessions'),\n",
       " ('possessions', 'i'),\n",
       " ('i', 'wonder'),\n",
       " ('wonder', 'if'),\n",
       " ('if', 'you'),\n",
       " ('you', 'can'),\n",
       " ('can', 'no'),\n",
       " ('no', 'need'),\n",
       " ('need', 'for'),\n",
       " ('for', 'greed'),\n",
       " ('greed', 'or'),\n",
       " ('or', 'hunger'),\n",
       " ('hunger', 'a'),\n",
       " ('a', 'brotherhood'),\n",
       " ('brotherhood', 'of'),\n",
       " ('of', 'man'),\n",
       " ('man', 'imagine'),\n",
       " ('imagine', 'all'),\n",
       " ('all', 'the'),\n",
       " ('the', 'people'),\n",
       " ('people', 'sharing'),\n",
       " ('sharing', 'all'),\n",
       " ('all', 'the'),\n",
       " ('the', 'world'),\n",
       " ('world', 'you'),\n",
       " ('you', 'you'),\n",
       " ('you', 'may'),\n",
       " ('may', 'say'),\n",
       " ('say', 'im'),\n",
       " ('im', 'a'),\n",
       " ('a', 'dreamer'),\n",
       " ('dreamer', 'but'),\n",
       " ('but', 'im'),\n",
       " ('im', 'not'),\n",
       " ('not', 'the'),\n",
       " ('the', 'only'),\n",
       " ('only', 'one'),\n",
       " ('one', 'i'),\n",
       " ('i', 'hope'),\n",
       " ('hope', 'someday'),\n",
       " ('someday', 'youll'),\n",
       " ('youll', 'join'),\n",
       " ('join', 'us'),\n",
       " ('us', 'and'),\n",
       " ('and', 'the'),\n",
       " ('the', 'world'),\n",
       " ('world', 'will'),\n",
       " ('will', 'live'),\n",
       " ('live', 'as'),\n",
       " ('as', 'one')]"
      ]
     },
     "execution_count": 295,
     "metadata": {},
     "output_type": "execute_result"
    }
   ],
   "source": [
    "couples(words)"
   ]
  },
  {
   "cell_type": "code",
   "execution_count": 309,
   "metadata": {},
   "outputs": [],
   "source": [
    "dictionary_couples = couples(dictionary)"
   ]
  },
  {
   "cell_type": "code",
   "execution_count": 310,
   "metadata": {},
   "outputs": [
    {
     "data": {
      "text/plain": [
       "'a'"
      ]
     },
     "execution_count": 310,
     "metadata": {},
     "output_type": "execute_result"
    }
   ],
   "source": [
    "choice(dictionary)"
   ]
  },
  {
   "cell_type": "code",
   "execution_count": 313,
   "metadata": {},
   "outputs": [
    {
     "data": {
      "text/plain": [
       "'could'"
      ]
     },
     "execution_count": 313,
     "metadata": {},
     "output_type": "execute_result"
    }
   ],
   "source": [
    "choice([couple[1] for couple in dictionary_couples if couple[0]=='i'])"
   ]
  },
  {
   "cell_type": "code",
   "execution_count": 318,
   "metadata": {},
   "outputs": [
    {
     "name": "stdout",
     "output_type": "stream",
     "text": [
      "hard\n",
      "to\n",
      "do\n",
      "what\n",
      "on\n"
     ]
    }
   ],
   "source": [
    "word = choice(dictionary)\n",
    "print(word)\n",
    "\n",
    "word = choice([couple[1] for couple in dictionary_couples if couple[0]==word])\n",
    "print(word)\n",
    "\n",
    "word = choice([couple[1] for couple in dictionary_couples if couple[0]==word])\n",
    "print(word)\n",
    "\n",
    "word = choice([couple[1] for couple in dictionary_couples if couple[0]==word])\n",
    "print(word)\n",
    "\n",
    "word = choice([couple[1] for couple in dictionary_couples if couple[0]==word])\n",
    "print(word)"
   ]
  },
  {
   "cell_type": "code",
   "execution_count": 322,
   "metadata": {},
   "outputs": [],
   "source": [
    "def select_next_word(word):\n",
    "    return choice([couple[1] for couple in dictionary_couples if couple[0]==word])"
   ]
  },
  {
   "cell_type": "code",
   "execution_count": 328,
   "metadata": {},
   "outputs": [
    {
     "name": "stdout",
     "output_type": "stream",
     "text": [
      "liberation\n",
      "and\n",
      "on\n",
      "like\n",
      "the\n",
      "sun\n",
      "well\n",
      "we\n",
      "played\n",
      "the\n"
     ]
    }
   ],
   "source": [
    "word = choice(dictionary)\n",
    "print(word)\n",
    "\n",
    "for i in range(randint(3, 10)):\n",
    "    word = select_next_word(word)\n",
    "    print(word)"
   ]
  },
  {
   "cell_type": "code",
   "execution_count": 353,
   "metadata": {},
   "outputs": [],
   "source": [
    "def generate_sentence(max_len = 10):\n",
    "    word = choice(dictionary)\n",
    "    sentence = [word]\n",
    "\n",
    "    for i in range(randint(3, max_len)):\n",
    "        word = select_next_word(word)\n",
    "        sentence += [word]\n",
    "    \n",
    "    return \" \".join(sentence)"
   ]
  },
  {
   "cell_type": "code",
   "execution_count": 354,
   "metadata": {},
   "outputs": [
    {
     "data": {
      "text/plain": [
       "['one and though we leave me take a chance',\n",
       " 'evrybodys talking about it do what he say',\n",
       " 'not the street singin power to bug',\n",
       " 'spread around about bagism shagism dragism madism ragism tagism thisism',\n",
       " 'instant karmas gonna jump and yoko ono we make her down']"
      ]
     },
     "execution_count": 354,
     "metadata": {},
     "output_type": "execute_result"
    }
   ],
   "source": [
    "[generate_sentence() for _ in range(5)]"
   ]
  },
  {
   "cell_type": "code",
   "execution_count": null,
   "metadata": {},
   "outputs": [],
   "source": []
  }
 ],
 "metadata": {
  "kernelspec": {
   "display_name": "Python 3",
   "language": "python",
   "name": "python3"
  },
  "language_info": {
   "codemirror_mode": {
    "name": "ipython",
    "version": 3
   },
   "file_extension": ".py",
   "mimetype": "text/x-python",
   "name": "python",
   "nbconvert_exporter": "python",
   "pygments_lexer": "ipython3",
   "version": "3.7.3"
  }
 },
 "nbformat": 4,
 "nbformat_minor": 4
}
