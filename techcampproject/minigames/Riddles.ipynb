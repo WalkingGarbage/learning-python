{
 "cells": [
  {
   "cell_type": "code",
   "execution_count": 18,
   "metadata": {},
   "outputs": [],
   "source": [
    "def riddle(q,w1,w2,w3,p):\n",
    "    win=False\n",
    "    print(q)\n",
    "    print('1: '+w1)\n",
    "    print('2: '+w2)\n",
    "    print('3: '+w3)\n",
    "    while(win==False):\n",
    "        a=int(input(\"What is the right answer? \"))\n",
    "        if a-1==p:\n",
    "            print(\"Oh Yes, I got it right! Maybe I should quit doing the knight and start programming...\")\n",
    "            win=True\n",
    "        else:\n",
    "            print(\"I don't think that's the right answer, maybe I should think again...\")"
   ]
  },
  {
   "cell_type": "code",
   "execution_count": 19,
   "metadata": {},
   "outputs": [
    {
     "name": "stdout",
     "output_type": "stream",
     "text": [
      "domanda\n",
      "1: sbagliata1\n",
      "2: giusta\n",
      "3: sbalgiata2\n",
      "What is the right answer? 2\n",
      "Oh Yes, I got it right! Maybe I should quit doing the knight and start programming...\n"
     ]
    }
   ],
   "source": [
    "riddle2(\"domanda\",\"sbagliata1\",\"giusta\",\"sbalgiata2\",1)"
   ]
  },
  {
   "cell_type": "code",
   "execution_count": null,
   "metadata": {},
   "outputs": [],
   "source": []
  }
 ],
 "metadata": {
  "kernelspec": {
   "display_name": "Python 3",
   "language": "python",
   "name": "python3"
  },
  "language_info": {
   "codemirror_mode": {
    "name": "ipython",
    "version": 3
   },
   "file_extension": ".py",
   "mimetype": "text/x-python",
   "name": "python",
   "nbconvert_exporter": "python",
   "pygments_lexer": "ipython3",
   "version": "3.7.6"
  }
 },
 "nbformat": 4,
 "nbformat_minor": 4
}
