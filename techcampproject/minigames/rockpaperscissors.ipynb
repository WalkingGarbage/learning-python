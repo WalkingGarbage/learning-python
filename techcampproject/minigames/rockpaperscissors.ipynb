{
 "cells": [
  {
   "cell_type": "code",
   "execution_count": 13,
   "metadata": {},
   "outputs": [],
   "source": [
    "### 0=rock\n",
    "### 1=scissors\n",
    "### 2=paper\n",
    "from random import randint\n",
    "def check(x):\n",
    "    if x==0:\n",
    "        print(\"rock\")\n",
    "    elif x==1:\n",
    "        print(\"scissors\")\n",
    "    elif x==2:\n",
    "        print(\"paper\")   \n",
    "def rps():\n",
    "    p=0\n",
    "    o=0\n",
    "    print(\"\"\"\n",
    "    0 = rock\n",
    "    1 = scissors\n",
    "    2 = paper\n",
    "    \"\"\")\n",
    "    while (p<2 and o<2):\n",
    "        a=int(input(\"Your move:\"))\n",
    "        check(a)\n",
    "        b=randint(0,2)\n",
    "        print(\"Opponent:\")\n",
    "        check(b)\n",
    "        if a>b or (a==2 and b==0):\n",
    "            print(\"You Won!\")\n",
    "            p=p+1\n",
    "        elif a==b:\n",
    "            print(\"Spare!\")\n",
    "        elif a<b or (a==0 and b==2):\n",
    "            print(\"You Lost!\")\n",
    "            o=o+1\n",
    "    if p>=2:\n",
    "        print(\"You Won!\")\n",
    "    else:\n",
    "        print(\"Wohoo! I'm the best!\")"
   ]
  },
  {
   "cell_type": "code",
   "execution_count": 14,
   "metadata": {},
   "outputs": [
    {
     "name": "stdout",
     "output_type": "stream",
     "text": [
      "\n",
      "    0 = rock\n",
      "    1 = scissors\n",
      "    2 = paper\n",
      "    \n",
      "Your move:1\n",
      "scissors\n",
      "Opponent:\n",
      "scissors\n",
      "Spare!\n",
      "Your move:1\n",
      "scissors\n",
      "Opponent:\n",
      "rock\n",
      "You Won!\n",
      "Your move:1\n",
      "scissors\n",
      "Opponent:\n",
      "paper\n",
      "You Lost!\n",
      "Your move:1\n",
      "scissors\n",
      "Opponent:\n",
      "rock\n",
      "You Won!\n",
      "You Won!\n"
     ]
    }
   ],
   "source": [
    "rps()"
   ]
  },
  {
   "cell_type": "code",
   "execution_count": null,
   "metadata": {},
   "outputs": [],
   "source": []
  }
 ],
 "metadata": {
  "kernelspec": {
   "display_name": "Python 3",
   "language": "python",
   "name": "python3"
  },
  "language_info": {
   "codemirror_mode": {
    "name": "ipython",
    "version": 3
   },
   "file_extension": ".py",
   "mimetype": "text/x-python",
   "name": "python",
   "nbconvert_exporter": "python",
   "pygments_lexer": "ipython3",
   "version": "3.7.6"
  }
 },
 "nbformat": 4,
 "nbformat_minor": 4
}
